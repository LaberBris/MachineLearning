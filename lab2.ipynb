{
 "cells": [
  {
   "cell_type": "code",
   "execution_count": 2,
   "id": "83865623",
   "metadata": {
    "ExecuteTime": {
     "end_time": "2023-10-24T14:11:41.357969100Z",
     "start_time": "2023-10-24T14:11:41.205538400Z"
    }
   },
   "outputs": [],
   "source": [
    "import pandas as pd\n",
    "import numpy as np\n",
    "import matplotlib.pyplot as plt\n",
    "import seaborn as sns\n",
    "import collections\n",
    "import random"
   ]
  },
  {
   "cell_type": "markdown",
   "id": "1f152642",
   "metadata": {},
   "source": [
    "## 0、数据处理成csv形式"
   ]
  },
  {
   "cell_type": "code",
   "execution_count": 3,
   "id": "8eb38d83",
   "metadata": {
    "ExecuteTime": {
     "end_time": "2023-10-24T14:11:42.005107500Z",
     "start_time": "2023-10-24T14:11:41.219169700Z"
    }
   },
   "outputs": [
    {
     "name": "stdout",
     "output_type": "stream",
     "text": [
      "   age          workclass  fnlwgt   education  educationNum  \\\n",
      "0   39          State-gov   77516   Bachelors            13   \n",
      "1   50   Self-emp-not-inc   83311   Bachelors            13   \n",
      "2   38            Private  215646     HS-grad             9   \n",
      "3   53            Private  234721        11th             7   \n",
      "4   28            Private  338409   Bachelors            13   \n",
      "\n",
      "         maritalStatus          occupation    relationship    race      sex  \\\n",
      "0        Never-married        Adm-clerical   Not-in-family   White     Male   \n",
      "1   Married-civ-spouse     Exec-managerial         Husband   White     Male   \n",
      "2             Divorced   Handlers-cleaners   Not-in-family   White     Male   \n",
      "3   Married-civ-spouse   Handlers-cleaners         Husband   Black     Male   \n",
      "4   Married-civ-spouse      Prof-specialty            Wife   Black   Female   \n",
      "\n",
      "   capitalGain  capitalLoss  hoursPerWeek   nativeCountry  income  \n",
      "0         2174            0            40   United-States   <=50K  \n",
      "1            0            0            13   United-States   <=50K  \n",
      "2            0            0            40   United-States   <=50K  \n",
      "3            0            0            40   United-States   <=50K  \n",
      "4            0            0            40            Cuba   <=50K  \n",
      "   age   workclass  fnlwgt      education  educationNum        maritalStatus  \\\n",
      "0   25     Private  226802           11th             7        Never-married   \n",
      "1   38     Private   89814        HS-grad             9   Married-civ-spouse   \n",
      "2   28   Local-gov  336951     Assoc-acdm            12   Married-civ-spouse   \n",
      "3   44     Private  160323   Some-college            10   Married-civ-spouse   \n",
      "4   18           ?  103497   Some-college            10        Never-married   \n",
      "\n",
      "           occupation relationship    race      sex  capitalGain  capitalLoss  \\\n",
      "0   Machine-op-inspct    Own-child   Black     Male            0            0   \n",
      "1     Farming-fishing      Husband   White     Male            0            0   \n",
      "2     Protective-serv      Husband   White     Male            0            0   \n",
      "3   Machine-op-inspct      Husband   Black     Male         7688            0   \n",
      "4                   ?    Own-child   White   Female            0            0   \n",
      "\n",
      "   hoursPerWeek   nativeCountry   income  \n",
      "0            40   United-States   <=50K.  \n",
      "1            50   United-States   <=50K.  \n",
      "2            40   United-States    >50K.  \n",
      "3            40   United-States    >50K.  \n",
      "4            30   United-States   <=50K.  \n"
     ]
    }
   ],
   "source": [
    "columns = ['age', 'workclass', 'fnlwgt', 'education', 'educationNum', 'maritalStatus', 'occupation', 'relationship', 'race', 'sex',\n",
    "          'capitalGain', 'capitalLoss', 'hoursPerWeek', 'nativeCountry', 'income']\n",
    "# 第一行是非法数据\n",
    "df_train_set = pd.read_csv('./adult.data', names=columns)\n",
    "df_test_set = pd.read_csv('./adult.test', names=columns, skiprows=1)\n",
    "\n",
    "print(df_train_set.head())\n",
    "print(df_test_set.head())\n",
    "df_train_set.to_csv('./train_adult.csv', index=False)\n",
    "df_test_set.to_csv('./test_adult.csv', index=False)"
   ]
  },
  {
   "cell_type": "code",
   "execution_count": 4,
   "id": "1ff96a48",
   "metadata": {
    "ExecuteTime": {
     "end_time": "2023-10-24T14:11:42.007605500Z",
     "start_time": "2023-10-24T14:11:41.494975200Z"
    }
   },
   "outputs": [
    {
     "data": {
      "text/plain": "   age   workclass  fnlwgt      education  educationNum        maritalStatus  \\\n0   25     Private  226802           11th             7        Never-married   \n1   38     Private   89814        HS-grad             9   Married-civ-spouse   \n2   28   Local-gov  336951     Assoc-acdm            12   Married-civ-spouse   \n3   44     Private  160323   Some-college            10   Married-civ-spouse   \n4   18           ?  103497   Some-college            10        Never-married   \n\n           occupation relationship    race      sex  capitalGain  capitalLoss  \\\n0   Machine-op-inspct    Own-child   Black     Male            0            0   \n1     Farming-fishing      Husband   White     Male            0            0   \n2     Protective-serv      Husband   White     Male            0            0   \n3   Machine-op-inspct      Husband   Black     Male         7688            0   \n4                   ?    Own-child   White   Female            0            0   \n\n   hoursPerWeek   nativeCountry   income  \n0            40   United-States   <=50K.  \n1            50   United-States   <=50K.  \n2            40   United-States    >50K.  \n3            40   United-States    >50K.  \n4            30   United-States   <=50K.  ",
      "text/html": "<div>\n<style scoped>\n    .dataframe tbody tr th:only-of-type {\n        vertical-align: middle;\n    }\n\n    .dataframe tbody tr th {\n        vertical-align: top;\n    }\n\n    .dataframe thead th {\n        text-align: right;\n    }\n</style>\n<table border=\"1\" class=\"dataframe\">\n  <thead>\n    <tr style=\"text-align: right;\">\n      <th></th>\n      <th>age</th>\n      <th>workclass</th>\n      <th>fnlwgt</th>\n      <th>education</th>\n      <th>educationNum</th>\n      <th>maritalStatus</th>\n      <th>occupation</th>\n      <th>relationship</th>\n      <th>race</th>\n      <th>sex</th>\n      <th>capitalGain</th>\n      <th>capitalLoss</th>\n      <th>hoursPerWeek</th>\n      <th>nativeCountry</th>\n      <th>income</th>\n    </tr>\n  </thead>\n  <tbody>\n    <tr>\n      <th>0</th>\n      <td>25</td>\n      <td>Private</td>\n      <td>226802</td>\n      <td>11th</td>\n      <td>7</td>\n      <td>Never-married</td>\n      <td>Machine-op-inspct</td>\n      <td>Own-child</td>\n      <td>Black</td>\n      <td>Male</td>\n      <td>0</td>\n      <td>0</td>\n      <td>40</td>\n      <td>United-States</td>\n      <td>&lt;=50K.</td>\n    </tr>\n    <tr>\n      <th>1</th>\n      <td>38</td>\n      <td>Private</td>\n      <td>89814</td>\n      <td>HS-grad</td>\n      <td>9</td>\n      <td>Married-civ-spouse</td>\n      <td>Farming-fishing</td>\n      <td>Husband</td>\n      <td>White</td>\n      <td>Male</td>\n      <td>0</td>\n      <td>0</td>\n      <td>50</td>\n      <td>United-States</td>\n      <td>&lt;=50K.</td>\n    </tr>\n    <tr>\n      <th>2</th>\n      <td>28</td>\n      <td>Local-gov</td>\n      <td>336951</td>\n      <td>Assoc-acdm</td>\n      <td>12</td>\n      <td>Married-civ-spouse</td>\n      <td>Protective-serv</td>\n      <td>Husband</td>\n      <td>White</td>\n      <td>Male</td>\n      <td>0</td>\n      <td>0</td>\n      <td>40</td>\n      <td>United-States</td>\n      <td>&gt;50K.</td>\n    </tr>\n    <tr>\n      <th>3</th>\n      <td>44</td>\n      <td>Private</td>\n      <td>160323</td>\n      <td>Some-college</td>\n      <td>10</td>\n      <td>Married-civ-spouse</td>\n      <td>Machine-op-inspct</td>\n      <td>Husband</td>\n      <td>Black</td>\n      <td>Male</td>\n      <td>7688</td>\n      <td>0</td>\n      <td>40</td>\n      <td>United-States</td>\n      <td>&gt;50K.</td>\n    </tr>\n    <tr>\n      <th>4</th>\n      <td>18</td>\n      <td>?</td>\n      <td>103497</td>\n      <td>Some-college</td>\n      <td>10</td>\n      <td>Never-married</td>\n      <td>?</td>\n      <td>Own-child</td>\n      <td>White</td>\n      <td>Female</td>\n      <td>0</td>\n      <td>0</td>\n      <td>30</td>\n      <td>United-States</td>\n      <td>&lt;=50K.</td>\n    </tr>\n  </tbody>\n</table>\n</div>"
     },
     "execution_count": 4,
     "metadata": {},
     "output_type": "execute_result"
    }
   ],
   "source": [
    "df_test_set.head()"
   ]
  },
  {
   "cell_type": "code",
   "execution_count": 5,
   "id": "bccd1129",
   "metadata": {
    "ExecuteTime": {
     "end_time": "2023-10-24T14:11:42.007605500Z",
     "start_time": "2023-10-24T14:11:41.508794200Z"
    }
   },
   "outputs": [
    {
     "data": {
      "text/plain": "(32561, 16281, 15)"
     },
     "execution_count": 5,
     "metadata": {},
     "output_type": "execute_result"
    }
   ],
   "source": [
    "len(df_train_set), len(df_test_set), len(df_test_set.columns)"
   ]
  },
  {
   "cell_type": "markdown",
   "id": "58d8c776",
   "metadata": {},
   "source": [
    "## 1、数据读取"
   ]
  },
  {
   "cell_type": "code",
   "execution_count": 6,
   "id": "f840bf38",
   "metadata": {
    "ExecuteTime": {
     "end_time": "2023-10-24T14:11:42.008605200Z",
     "start_time": "2023-10-24T14:11:41.513396200Z"
    }
   },
   "outputs": [
    {
     "data": {
      "text/plain": "       age          workclass  fnlwgt    education  educationNum  \\\n0       39          State-gov   77516    Bachelors            13   \n1       50   Self-emp-not-inc   83311    Bachelors            13   \n2       38            Private  215646      HS-grad             9   \n3       53            Private  234721         11th             7   \n4       28            Private  338409    Bachelors            13   \n...    ...                ...     ...          ...           ...   \n32556   27            Private  257302   Assoc-acdm            12   \n32557   40            Private  154374      HS-grad             9   \n32558   58            Private  151910      HS-grad             9   \n32559   22            Private  201490      HS-grad             9   \n32560   52       Self-emp-inc  287927      HS-grad             9   \n\n             maritalStatus          occupation    relationship    race  \\\n0            Never-married        Adm-clerical   Not-in-family   White   \n1       Married-civ-spouse     Exec-managerial         Husband   White   \n2                 Divorced   Handlers-cleaners   Not-in-family   White   \n3       Married-civ-spouse   Handlers-cleaners         Husband   Black   \n4       Married-civ-spouse      Prof-specialty            Wife   Black   \n...                    ...                 ...             ...     ...   \n32556   Married-civ-spouse        Tech-support            Wife   White   \n32557   Married-civ-spouse   Machine-op-inspct         Husband   White   \n32558              Widowed        Adm-clerical       Unmarried   White   \n32559        Never-married        Adm-clerical       Own-child   White   \n32560   Married-civ-spouse     Exec-managerial            Wife   White   \n\n           sex  capitalGain  capitalLoss  hoursPerWeek   nativeCountry  income  \n0         Male         2174            0            40   United-States   <=50K  \n1         Male            0            0            13   United-States   <=50K  \n2         Male            0            0            40   United-States   <=50K  \n3         Male            0            0            40   United-States   <=50K  \n4       Female            0            0            40            Cuba   <=50K  \n...        ...          ...          ...           ...             ...     ...  \n32556   Female            0            0            38   United-States   <=50K  \n32557     Male            0            0            40   United-States    >50K  \n32558   Female            0            0            40   United-States   <=50K  \n32559     Male            0            0            20   United-States   <=50K  \n32560   Female        15024            0            40   United-States    >50K  \n\n[32561 rows x 15 columns]",
      "text/html": "<div>\n<style scoped>\n    .dataframe tbody tr th:only-of-type {\n        vertical-align: middle;\n    }\n\n    .dataframe tbody tr th {\n        vertical-align: top;\n    }\n\n    .dataframe thead th {\n        text-align: right;\n    }\n</style>\n<table border=\"1\" class=\"dataframe\">\n  <thead>\n    <tr style=\"text-align: right;\">\n      <th></th>\n      <th>age</th>\n      <th>workclass</th>\n      <th>fnlwgt</th>\n      <th>education</th>\n      <th>educationNum</th>\n      <th>maritalStatus</th>\n      <th>occupation</th>\n      <th>relationship</th>\n      <th>race</th>\n      <th>sex</th>\n      <th>capitalGain</th>\n      <th>capitalLoss</th>\n      <th>hoursPerWeek</th>\n      <th>nativeCountry</th>\n      <th>income</th>\n    </tr>\n  </thead>\n  <tbody>\n    <tr>\n      <th>0</th>\n      <td>39</td>\n      <td>State-gov</td>\n      <td>77516</td>\n      <td>Bachelors</td>\n      <td>13</td>\n      <td>Never-married</td>\n      <td>Adm-clerical</td>\n      <td>Not-in-family</td>\n      <td>White</td>\n      <td>Male</td>\n      <td>2174</td>\n      <td>0</td>\n      <td>40</td>\n      <td>United-States</td>\n      <td>&lt;=50K</td>\n    </tr>\n    <tr>\n      <th>1</th>\n      <td>50</td>\n      <td>Self-emp-not-inc</td>\n      <td>83311</td>\n      <td>Bachelors</td>\n      <td>13</td>\n      <td>Married-civ-spouse</td>\n      <td>Exec-managerial</td>\n      <td>Husband</td>\n      <td>White</td>\n      <td>Male</td>\n      <td>0</td>\n      <td>0</td>\n      <td>13</td>\n      <td>United-States</td>\n      <td>&lt;=50K</td>\n    </tr>\n    <tr>\n      <th>2</th>\n      <td>38</td>\n      <td>Private</td>\n      <td>215646</td>\n      <td>HS-grad</td>\n      <td>9</td>\n      <td>Divorced</td>\n      <td>Handlers-cleaners</td>\n      <td>Not-in-family</td>\n      <td>White</td>\n      <td>Male</td>\n      <td>0</td>\n      <td>0</td>\n      <td>40</td>\n      <td>United-States</td>\n      <td>&lt;=50K</td>\n    </tr>\n    <tr>\n      <th>3</th>\n      <td>53</td>\n      <td>Private</td>\n      <td>234721</td>\n      <td>11th</td>\n      <td>7</td>\n      <td>Married-civ-spouse</td>\n      <td>Handlers-cleaners</td>\n      <td>Husband</td>\n      <td>Black</td>\n      <td>Male</td>\n      <td>0</td>\n      <td>0</td>\n      <td>40</td>\n      <td>United-States</td>\n      <td>&lt;=50K</td>\n    </tr>\n    <tr>\n      <th>4</th>\n      <td>28</td>\n      <td>Private</td>\n      <td>338409</td>\n      <td>Bachelors</td>\n      <td>13</td>\n      <td>Married-civ-spouse</td>\n      <td>Prof-specialty</td>\n      <td>Wife</td>\n      <td>Black</td>\n      <td>Female</td>\n      <td>0</td>\n      <td>0</td>\n      <td>40</td>\n      <td>Cuba</td>\n      <td>&lt;=50K</td>\n    </tr>\n    <tr>\n      <th>...</th>\n      <td>...</td>\n      <td>...</td>\n      <td>...</td>\n      <td>...</td>\n      <td>...</td>\n      <td>...</td>\n      <td>...</td>\n      <td>...</td>\n      <td>...</td>\n      <td>...</td>\n      <td>...</td>\n      <td>...</td>\n      <td>...</td>\n      <td>...</td>\n      <td>...</td>\n    </tr>\n    <tr>\n      <th>32556</th>\n      <td>27</td>\n      <td>Private</td>\n      <td>257302</td>\n      <td>Assoc-acdm</td>\n      <td>12</td>\n      <td>Married-civ-spouse</td>\n      <td>Tech-support</td>\n      <td>Wife</td>\n      <td>White</td>\n      <td>Female</td>\n      <td>0</td>\n      <td>0</td>\n      <td>38</td>\n      <td>United-States</td>\n      <td>&lt;=50K</td>\n    </tr>\n    <tr>\n      <th>32557</th>\n      <td>40</td>\n      <td>Private</td>\n      <td>154374</td>\n      <td>HS-grad</td>\n      <td>9</td>\n      <td>Married-civ-spouse</td>\n      <td>Machine-op-inspct</td>\n      <td>Husband</td>\n      <td>White</td>\n      <td>Male</td>\n      <td>0</td>\n      <td>0</td>\n      <td>40</td>\n      <td>United-States</td>\n      <td>&gt;50K</td>\n    </tr>\n    <tr>\n      <th>32558</th>\n      <td>58</td>\n      <td>Private</td>\n      <td>151910</td>\n      <td>HS-grad</td>\n      <td>9</td>\n      <td>Widowed</td>\n      <td>Adm-clerical</td>\n      <td>Unmarried</td>\n      <td>White</td>\n      <td>Female</td>\n      <td>0</td>\n      <td>0</td>\n      <td>40</td>\n      <td>United-States</td>\n      <td>&lt;=50K</td>\n    </tr>\n    <tr>\n      <th>32559</th>\n      <td>22</td>\n      <td>Private</td>\n      <td>201490</td>\n      <td>HS-grad</td>\n      <td>9</td>\n      <td>Never-married</td>\n      <td>Adm-clerical</td>\n      <td>Own-child</td>\n      <td>White</td>\n      <td>Male</td>\n      <td>0</td>\n      <td>0</td>\n      <td>20</td>\n      <td>United-States</td>\n      <td>&lt;=50K</td>\n    </tr>\n    <tr>\n      <th>32560</th>\n      <td>52</td>\n      <td>Self-emp-inc</td>\n      <td>287927</td>\n      <td>HS-grad</td>\n      <td>9</td>\n      <td>Married-civ-spouse</td>\n      <td>Exec-managerial</td>\n      <td>Wife</td>\n      <td>White</td>\n      <td>Female</td>\n      <td>15024</td>\n      <td>0</td>\n      <td>40</td>\n      <td>United-States</td>\n      <td>&gt;50K</td>\n    </tr>\n  </tbody>\n</table>\n<p>32561 rows × 15 columns</p>\n</div>"
     },
     "execution_count": 6,
     "metadata": {},
     "output_type": "execute_result"
    }
   ],
   "source": [
    "df_train_set = pd.read_csv('./train_adult.csv')\n",
    "df_train_set"
   ]
  },
  {
   "cell_type": "markdown",
   "id": "0b499c4f-bd4f-415d-9311-211091a18f39",
   "metadata": {},
   "source": [
    "## 2、数据预处理"
   ]
  },
  {
   "cell_type": "markdown",
   "id": "a751e794",
   "metadata": {},
   "source": [
    "### 2.1 删除对应属性"
   ]
  },
  {
   "cell_type": "code",
   "execution_count": 7,
   "id": "ac775bfc",
   "metadata": {
    "ExecuteTime": {
     "end_time": "2023-10-24T14:11:42.011117700Z",
     "start_time": "2023-10-24T14:11:41.578640100Z"
    }
   },
   "outputs": [
    {
     "name": "stdout",
     "output_type": "stream",
     "text": [
      "Index(['age', 'workclass', 'education', 'maritalStatus', 'occupation',\n",
      "       'relationship', 'race', 'sex', 'capitalGain', 'capitalLoss',\n",
      "       'hoursPerWeek', 'nativeCountry', 'income'],\n",
      "      dtype='object')\n"
     ]
    }
   ],
   "source": [
    "# fnlwgt列用处不大，educationNum与education类似\n",
    "df_train_set.drop(['fnlwgt', 'educationNum'], axis=1, inplace=True) \n",
    "df_test_set.drop(['fnlwgt', 'educationNum'], axis=1, inplace=True)\n",
    "print(df_train_set.columns)"
   ]
  },
  {
   "cell_type": "markdown",
   "id": "5f8752b9",
   "metadata": {},
   "source": [
    "### 2.2 重复行记录处理"
   ]
  },
  {
   "cell_type": "code",
   "execution_count": 8,
   "id": "eac9368e",
   "metadata": {
    "ExecuteTime": {
     "end_time": "2023-10-24T14:11:42.011117700Z",
     "start_time": "2023-10-24T14:11:41.586789400Z"
    }
   },
   "outputs": [],
   "source": [
    "df_train_set.drop_duplicates(inplace=True) # 去除重复行"
   ]
  },
  {
   "cell_type": "code",
   "execution_count": 9,
   "id": "2b4a6e46",
   "metadata": {
    "ExecuteTime": {
     "end_time": "2023-10-24T14:11:42.012105300Z",
     "start_time": "2023-10-24T14:11:41.621846200Z"
    }
   },
   "outputs": [
    {
     "data": {
      "text/plain": "       age          workclass      education        maritalStatus  \\\n0       39          State-gov      Bachelors        Never-married   \n1       50   Self-emp-not-inc      Bachelors   Married-civ-spouse   \n2       38            Private        HS-grad             Divorced   \n3       53            Private           11th   Married-civ-spouse   \n4       28            Private      Bachelors   Married-civ-spouse   \n...    ...                ...            ...                  ...   \n32554   53            Private        Masters   Married-civ-spouse   \n32555   22            Private   Some-college        Never-married   \n32556   27            Private     Assoc-acdm   Married-civ-spouse   \n32558   58            Private        HS-grad              Widowed   \n32560   52       Self-emp-inc        HS-grad   Married-civ-spouse   \n\n               occupation    relationship    race      sex  capitalGain  \\\n0            Adm-clerical   Not-in-family   White     Male         2174   \n1         Exec-managerial         Husband   White     Male            0   \n2       Handlers-cleaners   Not-in-family   White     Male            0   \n3       Handlers-cleaners         Husband   Black     Male            0   \n4          Prof-specialty            Wife   Black   Female            0   \n...                   ...             ...     ...      ...          ...   \n32554     Exec-managerial         Husband   White     Male            0   \n32555     Protective-serv   Not-in-family   White     Male            0   \n32556        Tech-support            Wife   White   Female            0   \n32558        Adm-clerical       Unmarried   White   Female            0   \n32560     Exec-managerial            Wife   White   Female        15024   \n\n       capitalLoss  hoursPerWeek   nativeCountry  income  \n0                0            40   United-States   <=50K  \n1                0            13   United-States   <=50K  \n2                0            40   United-States   <=50K  \n3                0            40   United-States   <=50K  \n4                0            40            Cuba   <=50K  \n...            ...           ...             ...     ...  \n32554            0            40   United-States    >50K  \n32555            0            40   United-States   <=50K  \n32556            0            38   United-States   <=50K  \n32558            0            40   United-States   <=50K  \n32560            0            40   United-States    >50K  \n\n[29096 rows x 13 columns]",
      "text/html": "<div>\n<style scoped>\n    .dataframe tbody tr th:only-of-type {\n        vertical-align: middle;\n    }\n\n    .dataframe tbody tr th {\n        vertical-align: top;\n    }\n\n    .dataframe thead th {\n        text-align: right;\n    }\n</style>\n<table border=\"1\" class=\"dataframe\">\n  <thead>\n    <tr style=\"text-align: right;\">\n      <th></th>\n      <th>age</th>\n      <th>workclass</th>\n      <th>education</th>\n      <th>maritalStatus</th>\n      <th>occupation</th>\n      <th>relationship</th>\n      <th>race</th>\n      <th>sex</th>\n      <th>capitalGain</th>\n      <th>capitalLoss</th>\n      <th>hoursPerWeek</th>\n      <th>nativeCountry</th>\n      <th>income</th>\n    </tr>\n  </thead>\n  <tbody>\n    <tr>\n      <th>0</th>\n      <td>39</td>\n      <td>State-gov</td>\n      <td>Bachelors</td>\n      <td>Never-married</td>\n      <td>Adm-clerical</td>\n      <td>Not-in-family</td>\n      <td>White</td>\n      <td>Male</td>\n      <td>2174</td>\n      <td>0</td>\n      <td>40</td>\n      <td>United-States</td>\n      <td>&lt;=50K</td>\n    </tr>\n    <tr>\n      <th>1</th>\n      <td>50</td>\n      <td>Self-emp-not-inc</td>\n      <td>Bachelors</td>\n      <td>Married-civ-spouse</td>\n      <td>Exec-managerial</td>\n      <td>Husband</td>\n      <td>White</td>\n      <td>Male</td>\n      <td>0</td>\n      <td>0</td>\n      <td>13</td>\n      <td>United-States</td>\n      <td>&lt;=50K</td>\n    </tr>\n    <tr>\n      <th>2</th>\n      <td>38</td>\n      <td>Private</td>\n      <td>HS-grad</td>\n      <td>Divorced</td>\n      <td>Handlers-cleaners</td>\n      <td>Not-in-family</td>\n      <td>White</td>\n      <td>Male</td>\n      <td>0</td>\n      <td>0</td>\n      <td>40</td>\n      <td>United-States</td>\n      <td>&lt;=50K</td>\n    </tr>\n    <tr>\n      <th>3</th>\n      <td>53</td>\n      <td>Private</td>\n      <td>11th</td>\n      <td>Married-civ-spouse</td>\n      <td>Handlers-cleaners</td>\n      <td>Husband</td>\n      <td>Black</td>\n      <td>Male</td>\n      <td>0</td>\n      <td>0</td>\n      <td>40</td>\n      <td>United-States</td>\n      <td>&lt;=50K</td>\n    </tr>\n    <tr>\n      <th>4</th>\n      <td>28</td>\n      <td>Private</td>\n      <td>Bachelors</td>\n      <td>Married-civ-spouse</td>\n      <td>Prof-specialty</td>\n      <td>Wife</td>\n      <td>Black</td>\n      <td>Female</td>\n      <td>0</td>\n      <td>0</td>\n      <td>40</td>\n      <td>Cuba</td>\n      <td>&lt;=50K</td>\n    </tr>\n    <tr>\n      <th>...</th>\n      <td>...</td>\n      <td>...</td>\n      <td>...</td>\n      <td>...</td>\n      <td>...</td>\n      <td>...</td>\n      <td>...</td>\n      <td>...</td>\n      <td>...</td>\n      <td>...</td>\n      <td>...</td>\n      <td>...</td>\n      <td>...</td>\n    </tr>\n    <tr>\n      <th>32554</th>\n      <td>53</td>\n      <td>Private</td>\n      <td>Masters</td>\n      <td>Married-civ-spouse</td>\n      <td>Exec-managerial</td>\n      <td>Husband</td>\n      <td>White</td>\n      <td>Male</td>\n      <td>0</td>\n      <td>0</td>\n      <td>40</td>\n      <td>United-States</td>\n      <td>&gt;50K</td>\n    </tr>\n    <tr>\n      <th>32555</th>\n      <td>22</td>\n      <td>Private</td>\n      <td>Some-college</td>\n      <td>Never-married</td>\n      <td>Protective-serv</td>\n      <td>Not-in-family</td>\n      <td>White</td>\n      <td>Male</td>\n      <td>0</td>\n      <td>0</td>\n      <td>40</td>\n      <td>United-States</td>\n      <td>&lt;=50K</td>\n    </tr>\n    <tr>\n      <th>32556</th>\n      <td>27</td>\n      <td>Private</td>\n      <td>Assoc-acdm</td>\n      <td>Married-civ-spouse</td>\n      <td>Tech-support</td>\n      <td>Wife</td>\n      <td>White</td>\n      <td>Female</td>\n      <td>0</td>\n      <td>0</td>\n      <td>38</td>\n      <td>United-States</td>\n      <td>&lt;=50K</td>\n    </tr>\n    <tr>\n      <th>32558</th>\n      <td>58</td>\n      <td>Private</td>\n      <td>HS-grad</td>\n      <td>Widowed</td>\n      <td>Adm-clerical</td>\n      <td>Unmarried</td>\n      <td>White</td>\n      <td>Female</td>\n      <td>0</td>\n      <td>0</td>\n      <td>40</td>\n      <td>United-States</td>\n      <td>&lt;=50K</td>\n    </tr>\n    <tr>\n      <th>32560</th>\n      <td>52</td>\n      <td>Self-emp-inc</td>\n      <td>HS-grad</td>\n      <td>Married-civ-spouse</td>\n      <td>Exec-managerial</td>\n      <td>Wife</td>\n      <td>White</td>\n      <td>Female</td>\n      <td>15024</td>\n      <td>0</td>\n      <td>40</td>\n      <td>United-States</td>\n      <td>&gt;50K</td>\n    </tr>\n  </tbody>\n</table>\n<p>29096 rows × 13 columns</p>\n</div>"
     },
     "execution_count": 9,
     "metadata": {},
     "output_type": "execute_result"
    }
   ],
   "source": [
    "df_train_set"
   ]
  },
  {
   "cell_type": "markdown",
   "id": "2dc7f88f",
   "metadata": {},
   "source": [
    "### 2.3 缺失值处理"
   ]
  },
  {
   "cell_type": "code",
   "execution_count": 10,
   "id": "d319533f",
   "metadata": {
    "ExecuteTime": {
     "end_time": "2023-10-24T14:11:42.012605Z",
     "start_time": "2023-10-24T14:11:41.630170700Z"
    }
   },
   "outputs": [
    {
     "data": {
      "text/plain": "Empty DataFrame\nColumns: [age, workclass, education, maritalStatus, occupation, relationship, race, sex, capitalGain, capitalLoss, hoursPerWeek, nativeCountry, income]\nIndex: []",
      "text/html": "<div>\n<style scoped>\n    .dataframe tbody tr th:only-of-type {\n        vertical-align: middle;\n    }\n\n    .dataframe tbody tr th {\n        vertical-align: top;\n    }\n\n    .dataframe thead th {\n        text-align: right;\n    }\n</style>\n<table border=\"1\" class=\"dataframe\">\n  <thead>\n    <tr style=\"text-align: right;\">\n      <th></th>\n      <th>age</th>\n      <th>workclass</th>\n      <th>education</th>\n      <th>maritalStatus</th>\n      <th>occupation</th>\n      <th>relationship</th>\n      <th>race</th>\n      <th>sex</th>\n      <th>capitalGain</th>\n      <th>capitalLoss</th>\n      <th>hoursPerWeek</th>\n      <th>nativeCountry</th>\n      <th>income</th>\n    </tr>\n  </thead>\n  <tbody>\n  </tbody>\n</table>\n</div>"
     },
     "execution_count": 10,
     "metadata": {},
     "output_type": "execute_result"
    }
   ],
   "source": [
    "# 输出有缺失值的数据行\n",
    "df_train_set[df_train_set.isna().values == True] "
   ]
  },
  {
   "cell_type": "code",
   "execution_count": 11,
   "id": "c4f703f0",
   "metadata": {
    "ExecuteTime": {
     "end_time": "2023-10-24T14:11:42.012605Z",
     "start_time": "2023-10-24T14:11:41.665272Z"
    }
   },
   "outputs": [],
   "source": [
    "# 去除空行 \n",
    "df_train_set.dropna(inplace=True) \n",
    "df_test_set.dropna(inplace=True)"
   ]
  },
  {
   "cell_type": "markdown",
   "id": "2ac0318d",
   "metadata": {},
   "source": [
    "### 2.4 查看列类型"
   ]
  },
  {
   "cell_type": "code",
   "execution_count": 12,
   "id": "5beb63f5",
   "metadata": {
    "ExecuteTime": {
     "end_time": "2023-10-24T14:11:42.013103800Z",
     "start_time": "2023-10-24T14:11:41.713859100Z"
    }
   },
   "outputs": [
    {
     "data": {
      "text/plain": "age               int64\nworkclass        object\neducation        object\nmaritalStatus    object\noccupation       object\nrelationship     object\nrace             object\nsex              object\ncapitalGain       int64\ncapitalLoss       int64\nhoursPerWeek      int64\nnativeCountry    object\nincome           object\ndtype: object"
     },
     "execution_count": 12,
     "metadata": {},
     "output_type": "execute_result"
    }
   ],
   "source": [
    "df_train_set.dtypes"
   ]
  },
  {
   "cell_type": "markdown",
   "id": "5845bc34",
   "metadata": {},
   "source": [
    "### 2.5 异常值处理"
   ]
  },
  {
   "cell_type": "code",
   "execution_count": 13,
   "id": "0362dee5",
   "metadata": {
    "ExecuteTime": {
     "end_time": "2023-10-24T14:11:42.014104800Z",
     "start_time": "2023-10-24T14:11:41.719478400Z"
    }
   },
   "outputs": [
    {
     "data": {
      "text/plain": "       age workclass      education        maritalStatus occupation  \\\n4       18         ?   Some-college        Never-married          ?   \n6       29         ?        HS-grad        Never-married          ?   \n13      58         ?        HS-grad   Married-civ-spouse          ?   \n22      72         ?        7th-8th             Divorced          ?   \n35      65         ?        HS-grad   Married-civ-spouse          ?   \n...    ...       ...            ...                  ...        ...   \n16121   61         ?   Some-college   Married-civ-spouse          ?   \n16208   21         ?   Some-college        Never-married          ?   \n16239   73         ?        HS-grad   Married-civ-spouse          ?   \n16251   81         ?      Assoc-voc   Married-civ-spouse          ?   \n16277   64         ?        HS-grad              Widowed          ?   \n\n          relationship    race      sex  capitalGain  capitalLoss  \\\n4            Own-child   White   Female            0            0   \n6            Unmarried   Black     Male            0            0   \n13             Husband   White     Male            0            0   \n22       Not-in-family   White   Female            0            0   \n35             Husband   White     Male            0            0   \n...                ...     ...      ...          ...          ...   \n16121          Husband   White     Male            0            0   \n16208        Own-child   White   Female            0            0   \n16239          Husband   White     Male            0            0   \n16251          Husband   White     Male         2936            0   \n16277   Other-relative   Black     Male            0            0   \n\n       hoursPerWeek   nativeCountry   income  \n4                30   United-States   <=50K.  \n6                40   United-States   <=50K.  \n13               35   United-States   <=50K.  \n22                6   United-States   <=50K.  \n35               40   United-States   <=50K.  \n...             ...             ...      ...  \n16121            14   United-States   <=50K.  \n16208            30   United-States   <=50K.  \n16239            25          Canada   <=50K.  \n16251            20   United-States   <=50K.  \n16277            40   United-States   <=50K.  \n\n[963 rows x 13 columns]",
      "text/html": "<div>\n<style scoped>\n    .dataframe tbody tr th:only-of-type {\n        vertical-align: middle;\n    }\n\n    .dataframe tbody tr th {\n        vertical-align: top;\n    }\n\n    .dataframe thead th {\n        text-align: right;\n    }\n</style>\n<table border=\"1\" class=\"dataframe\">\n  <thead>\n    <tr style=\"text-align: right;\">\n      <th></th>\n      <th>age</th>\n      <th>workclass</th>\n      <th>education</th>\n      <th>maritalStatus</th>\n      <th>occupation</th>\n      <th>relationship</th>\n      <th>race</th>\n      <th>sex</th>\n      <th>capitalGain</th>\n      <th>capitalLoss</th>\n      <th>hoursPerWeek</th>\n      <th>nativeCountry</th>\n      <th>income</th>\n    </tr>\n  </thead>\n  <tbody>\n    <tr>\n      <th>4</th>\n      <td>18</td>\n      <td>?</td>\n      <td>Some-college</td>\n      <td>Never-married</td>\n      <td>?</td>\n      <td>Own-child</td>\n      <td>White</td>\n      <td>Female</td>\n      <td>0</td>\n      <td>0</td>\n      <td>30</td>\n      <td>United-States</td>\n      <td>&lt;=50K.</td>\n    </tr>\n    <tr>\n      <th>6</th>\n      <td>29</td>\n      <td>?</td>\n      <td>HS-grad</td>\n      <td>Never-married</td>\n      <td>?</td>\n      <td>Unmarried</td>\n      <td>Black</td>\n      <td>Male</td>\n      <td>0</td>\n      <td>0</td>\n      <td>40</td>\n      <td>United-States</td>\n      <td>&lt;=50K.</td>\n    </tr>\n    <tr>\n      <th>13</th>\n      <td>58</td>\n      <td>?</td>\n      <td>HS-grad</td>\n      <td>Married-civ-spouse</td>\n      <td>?</td>\n      <td>Husband</td>\n      <td>White</td>\n      <td>Male</td>\n      <td>0</td>\n      <td>0</td>\n      <td>35</td>\n      <td>United-States</td>\n      <td>&lt;=50K.</td>\n    </tr>\n    <tr>\n      <th>22</th>\n      <td>72</td>\n      <td>?</td>\n      <td>7th-8th</td>\n      <td>Divorced</td>\n      <td>?</td>\n      <td>Not-in-family</td>\n      <td>White</td>\n      <td>Female</td>\n      <td>0</td>\n      <td>0</td>\n      <td>6</td>\n      <td>United-States</td>\n      <td>&lt;=50K.</td>\n    </tr>\n    <tr>\n      <th>35</th>\n      <td>65</td>\n      <td>?</td>\n      <td>HS-grad</td>\n      <td>Married-civ-spouse</td>\n      <td>?</td>\n      <td>Husband</td>\n      <td>White</td>\n      <td>Male</td>\n      <td>0</td>\n      <td>0</td>\n      <td>40</td>\n      <td>United-States</td>\n      <td>&lt;=50K.</td>\n    </tr>\n    <tr>\n      <th>...</th>\n      <td>...</td>\n      <td>...</td>\n      <td>...</td>\n      <td>...</td>\n      <td>...</td>\n      <td>...</td>\n      <td>...</td>\n      <td>...</td>\n      <td>...</td>\n      <td>...</td>\n      <td>...</td>\n      <td>...</td>\n      <td>...</td>\n    </tr>\n    <tr>\n      <th>16121</th>\n      <td>61</td>\n      <td>?</td>\n      <td>Some-college</td>\n      <td>Married-civ-spouse</td>\n      <td>?</td>\n      <td>Husband</td>\n      <td>White</td>\n      <td>Male</td>\n      <td>0</td>\n      <td>0</td>\n      <td>14</td>\n      <td>United-States</td>\n      <td>&lt;=50K.</td>\n    </tr>\n    <tr>\n      <th>16208</th>\n      <td>21</td>\n      <td>?</td>\n      <td>Some-college</td>\n      <td>Never-married</td>\n      <td>?</td>\n      <td>Own-child</td>\n      <td>White</td>\n      <td>Female</td>\n      <td>0</td>\n      <td>0</td>\n      <td>30</td>\n      <td>United-States</td>\n      <td>&lt;=50K.</td>\n    </tr>\n    <tr>\n      <th>16239</th>\n      <td>73</td>\n      <td>?</td>\n      <td>HS-grad</td>\n      <td>Married-civ-spouse</td>\n      <td>?</td>\n      <td>Husband</td>\n      <td>White</td>\n      <td>Male</td>\n      <td>0</td>\n      <td>0</td>\n      <td>25</td>\n      <td>Canada</td>\n      <td>&lt;=50K.</td>\n    </tr>\n    <tr>\n      <th>16251</th>\n      <td>81</td>\n      <td>?</td>\n      <td>Assoc-voc</td>\n      <td>Married-civ-spouse</td>\n      <td>?</td>\n      <td>Husband</td>\n      <td>White</td>\n      <td>Male</td>\n      <td>2936</td>\n      <td>0</td>\n      <td>20</td>\n      <td>United-States</td>\n      <td>&lt;=50K.</td>\n    </tr>\n    <tr>\n      <th>16277</th>\n      <td>64</td>\n      <td>?</td>\n      <td>HS-grad</td>\n      <td>Widowed</td>\n      <td>?</td>\n      <td>Other-relative</td>\n      <td>Black</td>\n      <td>Male</td>\n      <td>0</td>\n      <td>0</td>\n      <td>40</td>\n      <td>United-States</td>\n      <td>&lt;=50K.</td>\n    </tr>\n  </tbody>\n</table>\n<p>963 rows × 13 columns</p>\n</div>"
     },
     "execution_count": 13,
     "metadata": {},
     "output_type": "execute_result"
    }
   ],
   "source": [
    "# 查找异常值, 避免与正则表达式的?冲突需要转义\n",
    "df_train_set[df_train_set['workclass'].str.contains(r'\\?', regex=True)] \n",
    "df_test_set[df_test_set['workclass'].str.contains(r'\\?', regex=True)]"
   ]
  },
  {
   "cell_type": "code",
   "execution_count": 14,
   "id": "c9a08cfe",
   "metadata": {
    "ExecuteTime": {
     "end_time": "2023-10-24T14:11:42.014607200Z",
     "start_time": "2023-10-24T14:11:41.748063300Z"
    }
   },
   "outputs": [
    {
     "data": {
      "text/plain": "       age          workclass      education        maritalStatus  \\\n0       39          State-gov      Bachelors        Never-married   \n1       50   Self-emp-not-inc      Bachelors   Married-civ-spouse   \n2       38            Private        HS-grad             Divorced   \n3       53            Private           11th   Married-civ-spouse   \n4       28            Private      Bachelors   Married-civ-spouse   \n...    ...                ...            ...                  ...   \n32554   53            Private        Masters   Married-civ-spouse   \n32555   22            Private   Some-college        Never-married   \n32556   27            Private     Assoc-acdm   Married-civ-spouse   \n32558   58            Private        HS-grad              Widowed   \n32560   52       Self-emp-inc        HS-grad   Married-civ-spouse   \n\n               occupation    relationship    race      sex  capitalGain  \\\n0            Adm-clerical   Not-in-family   White     Male         2174   \n1         Exec-managerial         Husband   White     Male            0   \n2       Handlers-cleaners   Not-in-family   White     Male            0   \n3       Handlers-cleaners         Husband   Black     Male            0   \n4          Prof-specialty            Wife   Black   Female            0   \n...                   ...             ...     ...      ...          ...   \n32554     Exec-managerial         Husband   White     Male            0   \n32555     Protective-serv   Not-in-family   White     Male            0   \n32556        Tech-support            Wife   White   Female            0   \n32558        Adm-clerical       Unmarried   White   Female            0   \n32560     Exec-managerial            Wife   White   Female        15024   \n\n       capitalLoss  hoursPerWeek   nativeCountry  income  \n0                0            40   United-States   <=50K  \n1                0            13   United-States   <=50K  \n2                0            40   United-States   <=50K  \n3                0            40   United-States   <=50K  \n4                0            40            Cuba   <=50K  \n...            ...           ...             ...     ...  \n32554            0            40   United-States    >50K  \n32555            0            40   United-States   <=50K  \n32556            0            38   United-States   <=50K  \n32558            0            40   United-States   <=50K  \n32560            0            40   United-States    >50K  \n\n[27464 rows x 13 columns]",
      "text/html": "<div>\n<style scoped>\n    .dataframe tbody tr th:only-of-type {\n        vertical-align: middle;\n    }\n\n    .dataframe tbody tr th {\n        vertical-align: top;\n    }\n\n    .dataframe thead th {\n        text-align: right;\n    }\n</style>\n<table border=\"1\" class=\"dataframe\">\n  <thead>\n    <tr style=\"text-align: right;\">\n      <th></th>\n      <th>age</th>\n      <th>workclass</th>\n      <th>education</th>\n      <th>maritalStatus</th>\n      <th>occupation</th>\n      <th>relationship</th>\n      <th>race</th>\n      <th>sex</th>\n      <th>capitalGain</th>\n      <th>capitalLoss</th>\n      <th>hoursPerWeek</th>\n      <th>nativeCountry</th>\n      <th>income</th>\n    </tr>\n  </thead>\n  <tbody>\n    <tr>\n      <th>0</th>\n      <td>39</td>\n      <td>State-gov</td>\n      <td>Bachelors</td>\n      <td>Never-married</td>\n      <td>Adm-clerical</td>\n      <td>Not-in-family</td>\n      <td>White</td>\n      <td>Male</td>\n      <td>2174</td>\n      <td>0</td>\n      <td>40</td>\n      <td>United-States</td>\n      <td>&lt;=50K</td>\n    </tr>\n    <tr>\n      <th>1</th>\n      <td>50</td>\n      <td>Self-emp-not-inc</td>\n      <td>Bachelors</td>\n      <td>Married-civ-spouse</td>\n      <td>Exec-managerial</td>\n      <td>Husband</td>\n      <td>White</td>\n      <td>Male</td>\n      <td>0</td>\n      <td>0</td>\n      <td>13</td>\n      <td>United-States</td>\n      <td>&lt;=50K</td>\n    </tr>\n    <tr>\n      <th>2</th>\n      <td>38</td>\n      <td>Private</td>\n      <td>HS-grad</td>\n      <td>Divorced</td>\n      <td>Handlers-cleaners</td>\n      <td>Not-in-family</td>\n      <td>White</td>\n      <td>Male</td>\n      <td>0</td>\n      <td>0</td>\n      <td>40</td>\n      <td>United-States</td>\n      <td>&lt;=50K</td>\n    </tr>\n    <tr>\n      <th>3</th>\n      <td>53</td>\n      <td>Private</td>\n      <td>11th</td>\n      <td>Married-civ-spouse</td>\n      <td>Handlers-cleaners</td>\n      <td>Husband</td>\n      <td>Black</td>\n      <td>Male</td>\n      <td>0</td>\n      <td>0</td>\n      <td>40</td>\n      <td>United-States</td>\n      <td>&lt;=50K</td>\n    </tr>\n    <tr>\n      <th>4</th>\n      <td>28</td>\n      <td>Private</td>\n      <td>Bachelors</td>\n      <td>Married-civ-spouse</td>\n      <td>Prof-specialty</td>\n      <td>Wife</td>\n      <td>Black</td>\n      <td>Female</td>\n      <td>0</td>\n      <td>0</td>\n      <td>40</td>\n      <td>Cuba</td>\n      <td>&lt;=50K</td>\n    </tr>\n    <tr>\n      <th>...</th>\n      <td>...</td>\n      <td>...</td>\n      <td>...</td>\n      <td>...</td>\n      <td>...</td>\n      <td>...</td>\n      <td>...</td>\n      <td>...</td>\n      <td>...</td>\n      <td>...</td>\n      <td>...</td>\n      <td>...</td>\n      <td>...</td>\n    </tr>\n    <tr>\n      <th>32554</th>\n      <td>53</td>\n      <td>Private</td>\n      <td>Masters</td>\n      <td>Married-civ-spouse</td>\n      <td>Exec-managerial</td>\n      <td>Husband</td>\n      <td>White</td>\n      <td>Male</td>\n      <td>0</td>\n      <td>0</td>\n      <td>40</td>\n      <td>United-States</td>\n      <td>&gt;50K</td>\n    </tr>\n    <tr>\n      <th>32555</th>\n      <td>22</td>\n      <td>Private</td>\n      <td>Some-college</td>\n      <td>Never-married</td>\n      <td>Protective-serv</td>\n      <td>Not-in-family</td>\n      <td>White</td>\n      <td>Male</td>\n      <td>0</td>\n      <td>0</td>\n      <td>40</td>\n      <td>United-States</td>\n      <td>&lt;=50K</td>\n    </tr>\n    <tr>\n      <th>32556</th>\n      <td>27</td>\n      <td>Private</td>\n      <td>Assoc-acdm</td>\n      <td>Married-civ-spouse</td>\n      <td>Tech-support</td>\n      <td>Wife</td>\n      <td>White</td>\n      <td>Female</td>\n      <td>0</td>\n      <td>0</td>\n      <td>38</td>\n      <td>United-States</td>\n      <td>&lt;=50K</td>\n    </tr>\n    <tr>\n      <th>32558</th>\n      <td>58</td>\n      <td>Private</td>\n      <td>HS-grad</td>\n      <td>Widowed</td>\n      <td>Adm-clerical</td>\n      <td>Unmarried</td>\n      <td>White</td>\n      <td>Female</td>\n      <td>0</td>\n      <td>0</td>\n      <td>40</td>\n      <td>United-States</td>\n      <td>&lt;=50K</td>\n    </tr>\n    <tr>\n      <th>32560</th>\n      <td>52</td>\n      <td>Self-emp-inc</td>\n      <td>HS-grad</td>\n      <td>Married-civ-spouse</td>\n      <td>Exec-managerial</td>\n      <td>Wife</td>\n      <td>White</td>\n      <td>Female</td>\n      <td>15024</td>\n      <td>0</td>\n      <td>40</td>\n      <td>United-States</td>\n      <td>&gt;50K</td>\n    </tr>\n  </tbody>\n</table>\n<p>27464 rows × 13 columns</p>\n</div>"
     },
     "execution_count": 14,
     "metadata": {},
     "output_type": "execute_result"
    }
   ],
   "source": [
    "df_train_set=df_train_set[~df_train_set['workclass'].str.contains(r'\\?', regex=True)]\n",
    "df_test_set=df_test_set[~df_test_set['workclass'].str.contains(r'\\?', regex=True)]\n",
    "df_train_set"
   ]
  },
  {
   "cell_type": "code",
   "execution_count": 15,
   "id": "debec8c4",
   "metadata": {
    "ExecuteTime": {
     "end_time": "2023-10-24T14:11:42.015108200Z",
     "start_time": "2023-10-24T14:11:41.782175700Z"
    }
   },
   "outputs": [
    {
     "data": {
      "text/plain": "   age          workclass   education        maritalStatus  \\\n0   39          State-gov   Bachelors        Never-married   \n1   50   Self-emp-not-inc   Bachelors   Married-civ-spouse   \n2   38            Private     HS-grad             Divorced   \n3   53            Private        11th   Married-civ-spouse   \n4   28            Private   Bachelors   Married-civ-spouse   \n\n           occupation    relationship    race      sex  capitalGain  \\\n0        Adm-clerical   Not-in-family   White     Male         2174   \n1     Exec-managerial         Husband   White     Male            0   \n2   Handlers-cleaners   Not-in-family   White     Male            0   \n3   Handlers-cleaners         Husband   Black     Male            0   \n4      Prof-specialty            Wife   Black   Female            0   \n\n   capitalLoss  hoursPerWeek   nativeCountry  income  \n0            0            40   United-States   <=50K  \n1            0            13   United-States   <=50K  \n2            0            40   United-States   <=50K  \n3            0            40   United-States   <=50K  \n4            0            40            Cuba   <=50K  ",
      "text/html": "<div>\n<style scoped>\n    .dataframe tbody tr th:only-of-type {\n        vertical-align: middle;\n    }\n\n    .dataframe tbody tr th {\n        vertical-align: top;\n    }\n\n    .dataframe thead th {\n        text-align: right;\n    }\n</style>\n<table border=\"1\" class=\"dataframe\">\n  <thead>\n    <tr style=\"text-align: right;\">\n      <th></th>\n      <th>age</th>\n      <th>workclass</th>\n      <th>education</th>\n      <th>maritalStatus</th>\n      <th>occupation</th>\n      <th>relationship</th>\n      <th>race</th>\n      <th>sex</th>\n      <th>capitalGain</th>\n      <th>capitalLoss</th>\n      <th>hoursPerWeek</th>\n      <th>nativeCountry</th>\n      <th>income</th>\n    </tr>\n  </thead>\n  <tbody>\n    <tr>\n      <th>0</th>\n      <td>39</td>\n      <td>State-gov</td>\n      <td>Bachelors</td>\n      <td>Never-married</td>\n      <td>Adm-clerical</td>\n      <td>Not-in-family</td>\n      <td>White</td>\n      <td>Male</td>\n      <td>2174</td>\n      <td>0</td>\n      <td>40</td>\n      <td>United-States</td>\n      <td>&lt;=50K</td>\n    </tr>\n    <tr>\n      <th>1</th>\n      <td>50</td>\n      <td>Self-emp-not-inc</td>\n      <td>Bachelors</td>\n      <td>Married-civ-spouse</td>\n      <td>Exec-managerial</td>\n      <td>Husband</td>\n      <td>White</td>\n      <td>Male</td>\n      <td>0</td>\n      <td>0</td>\n      <td>13</td>\n      <td>United-States</td>\n      <td>&lt;=50K</td>\n    </tr>\n    <tr>\n      <th>2</th>\n      <td>38</td>\n      <td>Private</td>\n      <td>HS-grad</td>\n      <td>Divorced</td>\n      <td>Handlers-cleaners</td>\n      <td>Not-in-family</td>\n      <td>White</td>\n      <td>Male</td>\n      <td>0</td>\n      <td>0</td>\n      <td>40</td>\n      <td>United-States</td>\n      <td>&lt;=50K</td>\n    </tr>\n    <tr>\n      <th>3</th>\n      <td>53</td>\n      <td>Private</td>\n      <td>11th</td>\n      <td>Married-civ-spouse</td>\n      <td>Handlers-cleaners</td>\n      <td>Husband</td>\n      <td>Black</td>\n      <td>Male</td>\n      <td>0</td>\n      <td>0</td>\n      <td>40</td>\n      <td>United-States</td>\n      <td>&lt;=50K</td>\n    </tr>\n    <tr>\n      <th>4</th>\n      <td>28</td>\n      <td>Private</td>\n      <td>Bachelors</td>\n      <td>Married-civ-spouse</td>\n      <td>Prof-specialty</td>\n      <td>Wife</td>\n      <td>Black</td>\n      <td>Female</td>\n      <td>0</td>\n      <td>0</td>\n      <td>40</td>\n      <td>Cuba</td>\n      <td>&lt;=50K</td>\n    </tr>\n  </tbody>\n</table>\n</div>"
     },
     "execution_count": 15,
     "metadata": {},
     "output_type": "execute_result"
    }
   ],
   "source": [
    "#删除有异常值的行\n",
    "new_columns = ['workclass', 'education', 'maritalStatus', 'occupation', 'relationship', 'race', 'sex', 'nativeCountry', 'income']\n",
    "for col in new_columns:\n",
    "        df_train_set = df_train_set[~df_train_set[col].str.contains(r'\\?', regex=True)]\n",
    "        df_test_set = df_test_set[~df_test_set[col].str.contains(r'\\?', regex=True)]\n",
    "df_train_set.head()"
   ]
  },
  {
   "cell_type": "markdown",
   "id": "8af9d211",
   "metadata": {},
   "source": [
    "### 2.6 数据可视化，以年龄为例"
   ]
  },
  {
   "cell_type": "code",
   "execution_count": 16,
   "id": "ec4bab13",
   "metadata": {
    "ExecuteTime": {
     "end_time": "2023-10-24T14:11:42.551815300Z",
     "start_time": "2023-10-24T14:11:41.943596700Z"
    }
   },
   "outputs": [
    {
     "data": {
      "text/plain": "<Axes: ylabel='Frequency'>"
     },
     "execution_count": 16,
     "metadata": {},
     "output_type": "execute_result"
    },
    {
     "data": {
      "text/plain": "<Figure size 640x480 with 1 Axes>",
      "image/png": "[encoded data removed]"
     },
     "metadata": {},
     "output_type": "display_data"
    }
   ],
   "source": [
    "df_train_set['age'].plot.hist()"
   ]
  },
  {
   "cell_type": "code",
   "execution_count": 17,
   "id": "a03b310e",
   "metadata": {
    "ExecuteTime": {
     "end_time": "2023-10-24T14:11:42.808620Z",
     "start_time": "2023-10-24T14:11:42.191738600Z"
    }
   },
   "outputs": [
    {
     "data": {
      "text/plain": "<Axes: >"
     },
     "execution_count": 17,
     "metadata": {},
     "output_type": "execute_result"
    },
    {
     "data": {
      "text/plain": "<Figure size 640x480 with 1 Axes>",
      "image/png": "[encoded data removed]"
     },
     "metadata": {},
     "output_type": "display_data"
    }
   ],
   "source": [
    "df_train_set['age'].value_counts().sort_index().plot.line()"
   ]
  },
  {
   "cell_type": "code",
   "execution_count": 18,
   "id": "c0c7e31e",
   "metadata": {
    "ExecuteTime": {
     "end_time": "2023-10-24T14:11:43.240751500Z",
     "start_time": "2023-10-24T14:11:42.369351200Z"
    }
   },
   "outputs": [
    {
     "data": {
      "text/plain": "<matplotlib.legend.Legend at 0x2472a681690>"
     },
     "execution_count": 18,
     "metadata": {},
     "output_type": "execute_result"
    },
    {
     "data": {
      "text/plain": "<Figure size 1800x900 with 1 Axes>",
      "image/png": "[encoded data removed]"
     },
     "metadata": {},
     "output_type": "display_data"
    }
   ],
   "source": [
    "# 画出年龄与收入的关系\n",
    "\n",
    "df_train_set = df_train_set.reset_index(drop=True) #重置索引\n",
    "df_train_set['age'].isnull() == True\n",
    "s = df_train_set['age'].value_counts()\n",
    "k = df_train_set['age'][df_train_set['income'] == ' >50K'].value_counts()\n",
    "sns.set_style(\"whitegrid\")\n",
    "f, ax = plt.subplots(figsize=(18, 9))\n",
    "sns.set_color_codes(\"pastel\")\n",
    "sns.barplot(x=s.index,y=s.values,label='total',color=\"b\")\n",
    "sns.barplot(x=k.index,y=k.values,label='income>50K',color=\"g\")\n",
    "ax.legend(ncol=2, loc=\"upper left\", frameon=True)"
   ]
  },
  {
   "cell_type": "markdown",
   "id": "f8ccedf7",
   "metadata": {},
   "source": [
    "### 2.7 连续型变量处理"
   ]
  },
  {
   "cell_type": "code",
   "execution_count": 19,
   "id": "ba523716",
   "metadata": {
    "ExecuteTime": {
     "end_time": "2023-10-24T14:11:43.254442300Z",
     "start_time": "2023-10-24T14:11:43.239456700Z"
    }
   },
   "outputs": [],
   "source": [
    "continuous_column = ['age', 'capitalGain', 'capitalLoss', 'hoursPerWeek']"
   ]
  },
  {
   "cell_type": "code",
   "execution_count": 20,
   "id": "8beefdd4",
   "metadata": {
    "ExecuteTime": {
     "end_time": "2023-10-24T14:11:43.255442Z",
     "start_time": "2023-10-24T14:11:43.242295100Z"
    }
   },
   "outputs": [
    {
     "data": {
      "text/plain": "(90, 17)"
     },
     "execution_count": 20,
     "metadata": {},
     "output_type": "execute_result"
    }
   ],
   "source": [
    "df_train_set['age'].max(), df_train_set['age'].min()"
   ]
  },
  {
   "cell_type": "code",
   "execution_count": 21,
   "id": "7bc20bcb",
   "metadata": {
    "ExecuteTime": {
     "end_time": "2023-10-24T14:11:43.261422400Z",
     "start_time": "2023-10-24T14:11:43.252315600Z"
    }
   },
   "outputs": [
    {
     "data": {
      "text/plain": "0    39\n1    50\n2    38\n3    53\n4    28\nName: age, dtype: int64"
     },
     "execution_count": 21,
     "metadata": {},
     "output_type": "execute_result"
    }
   ],
   "source": [
    "df_train_set['age'].head() "
   ]
  },
  {
   "cell_type": "code",
   "execution_count": 22,
   "id": "e215575c",
   "metadata": {
    "ExecuteTime": {
     "end_time": "2023-10-24T14:11:43.421865600Z",
     "start_time": "2023-10-24T14:11:43.259424Z"
    }
   },
   "outputs": [],
   "source": [
    "# 分箱区间左开右闭 (0, 25], (25, 50], ...\n",
    "bins = [0, 25, 50, 75, 100] \n",
    "df_train_set['age'] = pd.cut(df_train_set['age'], bins, labels=False)\n",
    "df_test_set['age'] = pd.cut(df_test_set['age'], bins, labels=False)"
   ]
  },
  {
   "cell_type": "code",
   "execution_count": 23,
   "id": "0edf5ccd",
   "metadata": {
    "ExecuteTime": {
     "end_time": "2023-10-24T14:11:43.442381500Z",
     "start_time": "2023-10-24T14:11:43.268938600Z"
    }
   },
   "outputs": [
    {
     "data": {
      "text/plain": "0    1\n1    1\n2    1\n3    2\n4    1\nName: age, dtype: int64"
     },
     "execution_count": 23,
     "metadata": {},
     "output_type": "execute_result"
    }
   ],
   "source": [
    "df_train_set['age'].head() "
   ]
  },
  {
   "cell_type": "code",
   "execution_count": 24,
   "outputs": [
    {
     "name": "stdout",
     "output_type": "stream",
     "text": [
      "99999 0\n",
      "3770 0\n"
     ]
    }
   ],
   "source": [
    "# 处理capitalGain, capitalLoss\n",
    "print(df_train_set['capitalGain'].max(), df_train_set['capitalGain'].min())\n",
    "print(df_test_set['capitalLoss'].max(), df_test_set['capitalLoss'].min())\n"
   ],
   "metadata": {
    "collapsed": false,
    "ExecuteTime": {
     "end_time": "2023-10-24T14:11:43.443381300Z",
     "start_time": "2023-10-24T14:11:43.274926Z"
    }
   },
   "id": "61aceb4e8589a683"
  },
  {
   "cell_type": "code",
   "execution_count": 25,
   "outputs": [],
   "source": [
    "# 调查capitalGain和capitalLoss大部分都是0, 为了方便处理, 我们将其转换为二值型变量\n",
    "df_train_set['capitalGain'] = df_train_set['capitalGain'].apply(lambda x: 1 if x > 0 else 0)\n",
    "df_train_set['capitalLoss'] = df_train_set['capitalLoss'].apply(lambda x: 1 if x > 0 else 0)\n",
    "df_test_set['capitalGain'] = df_test_set['capitalGain'].apply(lambda x: 1 if x > 0 else 0)\n",
    "df_test_set['capitalLoss'] = df_test_set['capitalLoss'].apply(lambda x: 1 if x > 0 else 0)\n"
   ],
   "metadata": {
    "collapsed": false,
    "ExecuteTime": {
     "end_time": "2023-10-24T14:11:43.443381300Z",
     "start_time": "2023-10-24T14:11:43.282461600Z"
    }
   },
   "id": "9c1c008111901652"
  },
  {
   "cell_type": "code",
   "execution_count": 26,
   "outputs": [
    {
     "data": {
      "text/plain": "<Axes: ylabel='Frequency'>"
     },
     "execution_count": 26,
     "metadata": {},
     "output_type": "execute_result"
    },
    {
     "data": {
      "text/plain": "<Figure size 640x480 with 1 Axes>",
      "image/png": "[encoded data removed]"
     },
     "metadata": {},
     "output_type": "display_data"
    }
   ],
   "source": [
    "# 处理hoursPerWeek\n",
    "df_train_set['hoursPerWeek'].plot.hist()"
   ],
   "metadata": {
    "collapsed": false,
    "ExecuteTime": {
     "end_time": "2023-10-24T14:11:43.581431500Z",
     "start_time": "2023-10-24T14:11:43.309675300Z"
    }
   },
   "id": "bf9ebbf360cb15ae"
  },
  {
   "cell_type": "code",
   "execution_count": 27,
   "outputs": [
    {
     "data": {
      "text/plain": "0        1\n1        0\n2        1\n3        1\n4        1\n        ..\n26899    1\n26900    1\n26901    1\n26902    1\n26903    1\nName: hoursPerWeek, Length: 26904, dtype: int64"
     },
     "execution_count": 27,
     "metadata": {},
     "output_type": "execute_result"
    }
   ],
   "source": [
    "# 分箱区间左开右闭 (0, 30], (30, 60], ...\n",
    "bins = [0, 30, 60, 90, 120]\n",
    "df_train_set['hoursPerWeek'] = pd.cut(df_train_set['hoursPerWeek'], bins, labels=False)\n",
    "df_test_set['hoursPerWeek'] = pd.cut(df_test_set['hoursPerWeek'], bins, labels=False)\n",
    "df_train_set['hoursPerWeek']"
   ],
   "metadata": {
    "collapsed": false,
    "ExecuteTime": {
     "end_time": "2023-10-24T14:11:43.582432400Z",
     "start_time": "2023-10-24T14:11:43.470269300Z"
    }
   },
   "id": "96cbdc2493b0dc88"
  },
  {
   "cell_type": "markdown",
   "id": "4e6e9650",
   "metadata": {},
   "source": [
    "###2.8 离散型变量处理"
   ]
  },
  {
   "cell_type": "code",
   "execution_count": 28,
   "id": "c31eef6e",
   "metadata": {
    "ExecuteTime": {
     "end_time": "2023-10-24T14:11:43.582432400Z",
     "start_time": "2023-10-24T14:11:43.478269300Z"
    }
   },
   "outputs": [],
   "source": [
    "discrete_column = ['workclass', 'education', 'maritalStatus', 'occupation', 'relationship', 'race', 'sex', 'nativeCountry', 'income']"
   ]
  },
  {
   "cell_type": "code",
   "execution_count": 29,
   "id": "51497367",
   "metadata": {
    "ExecuteTime": {
     "end_time": "2023-10-24T14:11:43.583433200Z",
     "start_time": "2023-10-24T14:11:43.482326200Z"
    }
   },
   "outputs": [
    {
     "data": {
      "text/plain": " Private             19214\n Self-emp-not-inc     2431\n Local-gov            2014\n State-gov            1253\n Self-emp-inc         1049\n Federal-gov           929\n Without-pay            14\nName: workclass, dtype: int64"
     },
     "execution_count": 29,
     "metadata": {},
     "output_type": "execute_result"
    }
   ],
   "source": [
    "df_train_set['workclass'].value_counts()"
   ]
  },
  {
   "cell_type": "code",
   "execution_count": 30,
   "id": "8ac74e85",
   "metadata": {
    "ExecuteTime": {
     "end_time": "2023-10-24T14:11:43.584792300Z",
     "start_time": "2023-10-24T14:11:43.492477Z"
    }
   },
   "outputs": [
    {
     "data": {
      "text/plain": "0            State-gov\n1     Self-emp-not-inc\n2              Private\n3              Private\n4              Private\nName: workclass, dtype: object"
     },
     "execution_count": 30,
     "metadata": {},
     "output_type": "execute_result"
    }
   ],
   "source": [
    "df_train_set['workclass'].head() #展示前五条"
   ]
  },
  {
   "cell_type": "code",
   "execution_count": 31,
   "id": "612dce08",
   "metadata": {
    "ExecuteTime": {
     "end_time": "2023-10-24T14:11:43.585322200Z",
     "start_time": "2023-10-24T14:11:43.501170500Z"
    }
   },
   "outputs": [
    {
     "data": {
      "text/plain": "Index([' Private', ' Self-emp-not-inc', ' Local-gov', ' State-gov',\n       ' Self-emp-inc', ' Federal-gov', ' Without-pay'],\n      dtype='object')"
     },
     "execution_count": 31,
     "metadata": {},
     "output_type": "execute_result"
    }
   ],
   "source": [
    "df_train_set['workclass'].value_counts().keys()"
   ]
  },
  {
   "cell_type": "code",
   "execution_count": 32,
   "id": "9509c2db",
   "metadata": {
    "ExecuteTime": {
     "end_time": "2023-10-24T14:11:43.586323900Z",
     "start_time": "2023-10-24T14:11:43.509661100Z"
    }
   },
   "outputs": [],
   "source": [
    "workclass_mapping = {' Private': 0, ' Self-emp-not-inc': 1, ' Self-emp-inc': 1, ' Local-gov': 2, ' State-gov': 2, ' Federal-gov': 2, ' Without-pay': 3, ' Never-worked': 3}\n",
    "df_train_set['workclass'] = df_train_set['workclass'].map(workclass_mapping)\n",
    "df_test_set['workclass'] = df_test_set['workclass'].map(workclass_mapping)"
   ]
  },
  {
   "cell_type": "code",
   "execution_count": 33,
   "id": "7c7c3d0f",
   "metadata": {
    "ExecuteTime": {
     "end_time": "2023-10-24T14:11:43.586323900Z",
     "start_time": "2023-10-24T14:11:43.520927800Z"
    }
   },
   "outputs": [
    {
     "data": {
      "text/plain": "0    2\n1    1\n2    0\n3    0\n4    0\nName: workclass, dtype: int64"
     },
     "execution_count": 33,
     "metadata": {},
     "output_type": "execute_result"
    }
   ],
   "source": [
    "df_train_set['workclass'].head()"
   ]
  },
  {
   "cell_type": "code",
   "execution_count": 34,
   "outputs": [],
   "source": [
    "# 处理其他离散型变量\n",
    "edcation_map = {' Preschool':0, ' 1st-4th':0, ' 5th-6th':1, ' 7th-8th':1, ' 9th':1, ' 10th':2, ' 11th':2, ' 12th':2, ' HS-grad':2, ' Some-college':3, ' Assoc-voc':3, ' Assoc-acdm':3, ' Bachelors':4, ' Masters':5, ' Prof-school':6, ' Doctorate':6}\n",
    "df_train_set['education'] = df_train_set['education'].map(edcation_map)\n",
    "df_test_set['education'] = df_test_set['education'].map(edcation_map)\n",
    "\n",
    "maritalStatus_map = {' Never-married':0, ' Married-civ-spouse':1, ' Married-spouse-absent':1, ' Separated':2, ' Divorced':2, ' Widowed':2, ' Married-AF-spouse':1}\n",
    "df_train_set['maritalStatus'] = df_train_set['maritalStatus'].map(maritalStatus_map)\n",
    "df_test_set['maritalStatus'] = df_test_set['maritalStatus'].map(maritalStatus_map)\n",
    "\n",
    "occupation_map = {' Adm-clerical':0, ' Craft-repair':1, ' Exec-managerial':2, ' Prof-specialty':3, ' Handlers-cleaners':4, ' Machine-op-inspct':5, ' Other-service':6, ' Sales':7, ' Transport-moving':8, ' Farming-fishing':9, ' Tech-support':10, ' Protective-serv':11, ' Priv-house-serv':12, ' Armed-Forces':13}\n",
    "df_train_set['occupation'] = df_train_set['occupation'].map(occupation_map)\n",
    "df_test_set['occupation'] = df_test_set['occupation'].map(occupation_map)\n",
    "\n",
    "relationship_map = {' Not-in-family':0, ' Husband':1, ' Wife':1, ' Own-child':2, ' Unmarried':2, ' Other-relative':2}\n",
    "df_train_set['relationship'] = df_train_set['relationship'].map(relationship_map)\n",
    "df_test_set['relationship'] = df_test_set['relationship'].map(relationship_map)\n",
    "\n",
    "race_map = {' White':0, ' Black':1, ' Asian-Pac-Islander':2, ' Amer-Indian-Eskimo':3, ' Other':4}\n",
    "df_train_set['race'] = df_train_set['race'].map(race_map)\n",
    "df_test_set['race'] = df_test_set['race'].map(race_map)\n",
    "\n",
    "df_train_set['sex'] = df_train_set['sex'].apply(lambda x: 1 if x == ' Female' else 0)\n",
    "df_test_set['sex'] = df_test_set['sex'].apply(lambda x: 1 if x == ' Female' else 0)\n",
    "\n",
    "df_train_set['nativeCountry'] = df_train_set['nativeCountry'].apply(lambda x: 1 if x == ' United-States' else 0)\n",
    "df_test_set['nativeCountry'] = df_test_set['nativeCountry'].apply(lambda x: 1 if x == ' United-States' else 0)\n",
    "\n",
    "df_train_set['income'] = df_train_set['income'].apply(lambda x: 1 if x == ' >50K' else 0)\n",
    "df_test_set['income'] = df_test_set['income'].apply(lambda x: 1 if x == ' >50K.' else 0)"
   ],
   "metadata": {
    "collapsed": false,
    "ExecuteTime": {
     "end_time": "2023-10-24T14:11:43.627943100Z",
     "start_time": "2023-10-24T14:11:43.531687500Z"
    }
   },
   "id": "737195b58d87cdc0"
  },
  {
   "cell_type": "code",
   "execution_count": 35,
   "outputs": [
    {
     "data": {
      "text/plain": "       age  workclass  education  maritalStatus  occupation  relationship  \\\n0        1          2          4              0           0             0   \n1        1          1          4              1           2             1   \n2        1          0          2              2           4             0   \n3        2          0          2              1           4             1   \n4        1          0          4              1           3             1   \n...    ...        ...        ...            ...         ...           ...   \n26899    2          0          5              1           2             1   \n26900    0          0          3              0          11             0   \n26901    1          0          3              1          10             1   \n26902    2          0          2              2           0             2   \n26903    2          1          2              1           2             1   \n\n       race  sex  capitalGain  capitalLoss  hoursPerWeek  nativeCountry  \\\n0         0    0            1            0             1              1   \n1         0    0            0            0             0              1   \n2         0    0            0            0             1              1   \n3         1    0            0            0             1              1   \n4         1    1            0            0             1              0   \n...     ...  ...          ...          ...           ...            ...   \n26899     0    0            0            0             1              1   \n26900     0    0            0            0             1              1   \n26901     0    1            0            0             1              1   \n26902     0    1            0            0             1              1   \n26903     0    1            1            0             1              1   \n\n       income  \n0           0  \n1           0  \n2           0  \n3           0  \n4           0  \n...       ...  \n26899       1  \n26900       0  \n26901       0  \n26902       0  \n26903       1  \n\n[26904 rows x 13 columns]",
      "text/html": "<div>\n<style scoped>\n    .dataframe tbody tr th:only-of-type {\n        vertical-align: middle;\n    }\n\n    .dataframe tbody tr th {\n        vertical-align: top;\n    }\n\n    .dataframe thead th {\n        text-align: right;\n    }\n</style>\n<table border=\"1\" class=\"dataframe\">\n  <thead>\n    <tr style=\"text-align: right;\">\n      <th></th>\n      <th>age</th>\n      <th>workclass</th>\n      <th>education</th>\n      <th>maritalStatus</th>\n      <th>occupation</th>\n      <th>relationship</th>\n      <th>race</th>\n      <th>sex</th>\n      <th>capitalGain</th>\n      <th>capitalLoss</th>\n      <th>hoursPerWeek</th>\n      <th>nativeCountry</th>\n      <th>income</th>\n    </tr>\n  </thead>\n  <tbody>\n    <tr>\n      <th>0</th>\n      <td>1</td>\n      <td>2</td>\n      <td>4</td>\n      <td>0</td>\n      <td>0</td>\n      <td>0</td>\n      <td>0</td>\n      <td>0</td>\n      <td>1</td>\n      <td>0</td>\n      <td>1</td>\n      <td>1</td>\n      <td>0</td>\n    </tr>\n    <tr>\n      <th>1</th>\n      <td>1</td>\n      <td>1</td>\n      <td>4</td>\n      <td>1</td>\n      <td>2</td>\n      <td>1</td>\n      <td>0</td>\n      <td>0</td>\n      <td>0</td>\n      <td>0</td>\n      <td>0</td>\n      <td>1</td>\n      <td>0</td>\n    </tr>\n    <tr>\n      <th>2</th>\n      <td>1</td>\n      <td>0</td>\n      <td>2</td>\n      <td>2</td>\n      <td>4</td>\n      <td>0</td>\n      <td>0</td>\n      <td>0</td>\n      <td>0</td>\n      <td>0</td>\n      <td>1</td>\n      <td>1</td>\n      <td>0</td>\n    </tr>\n    <tr>\n      <th>3</th>\n      <td>2</td>\n      <td>0</td>\n      <td>2</td>\n      <td>1</td>\n      <td>4</td>\n      <td>1</td>\n      <td>1</td>\n      <td>0</td>\n      <td>0</td>\n      <td>0</td>\n      <td>1</td>\n      <td>1</td>\n      <td>0</td>\n    </tr>\n    <tr>\n      <th>4</th>\n      <td>1</td>\n      <td>0</td>\n      <td>4</td>\n      <td>1</td>\n      <td>3</td>\n      <td>1</td>\n      <td>1</td>\n      <td>1</td>\n      <td>0</td>\n      <td>0</td>\n      <td>1</td>\n      <td>0</td>\n      <td>0</td>\n    </tr>\n    <tr>\n      <th>...</th>\n      <td>...</td>\n      <td>...</td>\n      <td>...</td>\n      <td>...</td>\n      <td>...</td>\n      <td>...</td>\n      <td>...</td>\n      <td>...</td>\n      <td>...</td>\n      <td>...</td>\n      <td>...</td>\n      <td>...</td>\n      <td>...</td>\n    </tr>\n    <tr>\n      <th>26899</th>\n      <td>2</td>\n      <td>0</td>\n      <td>5</td>\n      <td>1</td>\n      <td>2</td>\n      <td>1</td>\n      <td>0</td>\n      <td>0</td>\n      <td>0</td>\n      <td>0</td>\n      <td>1</td>\n      <td>1</td>\n      <td>1</td>\n    </tr>\n    <tr>\n      <th>26900</th>\n      <td>0</td>\n      <td>0</td>\n      <td>3</td>\n      <td>0</td>\n      <td>11</td>\n      <td>0</td>\n      <td>0</td>\n      <td>0</td>\n      <td>0</td>\n      <td>0</td>\n      <td>1</td>\n      <td>1</td>\n      <td>0</td>\n    </tr>\n    <tr>\n      <th>26901</th>\n      <td>1</td>\n      <td>0</td>\n      <td>3</td>\n      <td>1</td>\n      <td>10</td>\n      <td>1</td>\n      <td>0</td>\n      <td>1</td>\n      <td>0</td>\n      <td>0</td>\n      <td>1</td>\n      <td>1</td>\n      <td>0</td>\n    </tr>\n    <tr>\n      <th>26902</th>\n      <td>2</td>\n      <td>0</td>\n      <td>2</td>\n      <td>2</td>\n      <td>0</td>\n      <td>2</td>\n      <td>0</td>\n      <td>1</td>\n      <td>0</td>\n      <td>0</td>\n      <td>1</td>\n      <td>1</td>\n      <td>0</td>\n    </tr>\n    <tr>\n      <th>26903</th>\n      <td>2</td>\n      <td>1</td>\n      <td>2</td>\n      <td>1</td>\n      <td>2</td>\n      <td>1</td>\n      <td>0</td>\n      <td>1</td>\n      <td>1</td>\n      <td>0</td>\n      <td>1</td>\n      <td>1</td>\n      <td>1</td>\n    </tr>\n  </tbody>\n</table>\n<p>26904 rows × 13 columns</p>\n</div>"
     },
     "execution_count": 35,
     "metadata": {},
     "output_type": "execute_result"
    }
   ],
   "source": [
    "df_train_set"
   ],
   "metadata": {
    "collapsed": false,
    "ExecuteTime": {
     "end_time": "2023-10-24T14:11:43.752746900Z",
     "start_time": "2023-10-24T14:11:43.587324400Z"
    }
   },
   "id": "409483cdb6bcc25"
  },
  {
   "cell_type": "code",
   "execution_count": 36,
   "outputs": [
    {
     "data": {
      "text/plain": "       age  workclass  education  maritalStatus  occupation  relationship  \\\n0        0          0          2              0           5             2   \n1        1          0          2              1           9             1   \n2        1          2          3              1          11             1   \n3        1          0          3              1           5             1   \n5        1          0          2              0           6             0   \n...    ...        ...        ...            ...         ...           ...   \n16275    1          0          4              0           3             2   \n16276    1          0          4              2           3             0   \n16278    1          0          4              1           3             1   \n16279    1          0          4              2           0             2   \n16280    1          1          4              1           2             1   \n\n       race  sex  capitalGain  capitalLoss  hoursPerWeek  nativeCountry  \\\n0         1    0            0            0             1              1   \n1         0    0            0            0             1              1   \n2         0    0            0            0             1              1   \n3         1    0            1            0             1              1   \n5         0    0            0            0             0              1   \n...     ...  ...          ...          ...           ...            ...   \n16275     0    0            0            0             1              1   \n16276     0    1            0            0             1              1   \n16278     0    0            0            0             1              1   \n16279     2    0            1            0             1              1   \n16280     0    0            0            0             1              1   \n\n       income  \n0           0  \n1           0  \n2           1  \n3           1  \n5           0  \n...       ...  \n16275       0  \n16276       0  \n16278       0  \n16279       0  \n16280       1  \n\n[15060 rows x 13 columns]",
      "text/html": "<div>\n<style scoped>\n    .dataframe tbody tr th:only-of-type {\n        vertical-align: middle;\n    }\n\n    .dataframe tbody tr th {\n        vertical-align: top;\n    }\n\n    .dataframe thead th {\n        text-align: right;\n    }\n</style>\n<table border=\"1\" class=\"dataframe\">\n  <thead>\n    <tr style=\"text-align: right;\">\n      <th></th>\n      <th>age</th>\n      <th>workclass</th>\n      <th>education</th>\n      <th>maritalStatus</th>\n      <th>occupation</th>\n      <th>relationship</th>\n      <th>race</th>\n      <th>sex</th>\n      <th>capitalGain</th>\n      <th>capitalLoss</th>\n      <th>hoursPerWeek</th>\n      <th>nativeCountry</th>\n      <th>income</th>\n    </tr>\n  </thead>\n  <tbody>\n    <tr>\n      <th>0</th>\n      <td>0</td>\n      <td>0</td>\n      <td>2</td>\n      <td>0</td>\n      <td>5</td>\n      <td>2</td>\n      <td>1</td>\n      <td>0</td>\n      <td>0</td>\n      <td>0</td>\n      <td>1</td>\n      <td>1</td>\n      <td>0</td>\n    </tr>\n    <tr>\n      <th>1</th>\n      <td>1</td>\n      <td>0</td>\n      <td>2</td>\n      <td>1</td>\n      <td>9</td>\n      <td>1</td>\n      <td>0</td>\n      <td>0</td>\n      <td>0</td>\n      <td>0</td>\n      <td>1</td>\n      <td>1</td>\n      <td>0</td>\n    </tr>\n    <tr>\n      <th>2</th>\n      <td>1</td>\n      <td>2</td>\n      <td>3</td>\n      <td>1</td>\n      <td>11</td>\n      <td>1</td>\n      <td>0</td>\n      <td>0</td>\n      <td>0</td>\n      <td>0</td>\n      <td>1</td>\n      <td>1</td>\n      <td>1</td>\n    </tr>\n    <tr>\n      <th>3</th>\n      <td>1</td>\n      <td>0</td>\n      <td>3</td>\n      <td>1</td>\n      <td>5</td>\n      <td>1</td>\n      <td>1</td>\n      <td>0</td>\n      <td>1</td>\n      <td>0</td>\n      <td>1</td>\n      <td>1</td>\n      <td>1</td>\n    </tr>\n    <tr>\n      <th>5</th>\n      <td>1</td>\n      <td>0</td>\n      <td>2</td>\n      <td>0</td>\n      <td>6</td>\n      <td>0</td>\n      <td>0</td>\n      <td>0</td>\n      <td>0</td>\n      <td>0</td>\n      <td>0</td>\n      <td>1</td>\n      <td>0</td>\n    </tr>\n    <tr>\n      <th>...</th>\n      <td>...</td>\n      <td>...</td>\n      <td>...</td>\n      <td>...</td>\n      <td>...</td>\n      <td>...</td>\n      <td>...</td>\n      <td>...</td>\n      <td>...</td>\n      <td>...</td>\n      <td>...</td>\n      <td>...</td>\n      <td>...</td>\n    </tr>\n    <tr>\n      <th>16275</th>\n      <td>1</td>\n      <td>0</td>\n      <td>4</td>\n      <td>0</td>\n      <td>3</td>\n      <td>2</td>\n      <td>0</td>\n      <td>0</td>\n      <td>0</td>\n      <td>0</td>\n      <td>1</td>\n      <td>1</td>\n      <td>0</td>\n    </tr>\n    <tr>\n      <th>16276</th>\n      <td>1</td>\n      <td>0</td>\n      <td>4</td>\n      <td>2</td>\n      <td>3</td>\n      <td>0</td>\n      <td>0</td>\n      <td>1</td>\n      <td>0</td>\n      <td>0</td>\n      <td>1</td>\n      <td>1</td>\n      <td>0</td>\n    </tr>\n    <tr>\n      <th>16278</th>\n      <td>1</td>\n      <td>0</td>\n      <td>4</td>\n      <td>1</td>\n      <td>3</td>\n      <td>1</td>\n      <td>0</td>\n      <td>0</td>\n      <td>0</td>\n      <td>0</td>\n      <td>1</td>\n      <td>1</td>\n      <td>0</td>\n    </tr>\n    <tr>\n      <th>16279</th>\n      <td>1</td>\n      <td>0</td>\n      <td>4</td>\n      <td>2</td>\n      <td>0</td>\n      <td>2</td>\n      <td>2</td>\n      <td>0</td>\n      <td>1</td>\n      <td>0</td>\n      <td>1</td>\n      <td>1</td>\n      <td>0</td>\n    </tr>\n    <tr>\n      <th>16280</th>\n      <td>1</td>\n      <td>1</td>\n      <td>4</td>\n      <td>1</td>\n      <td>2</td>\n      <td>1</td>\n      <td>0</td>\n      <td>0</td>\n      <td>0</td>\n      <td>0</td>\n      <td>1</td>\n      <td>1</td>\n      <td>1</td>\n    </tr>\n  </tbody>\n</table>\n<p>15060 rows × 13 columns</p>\n</div>"
     },
     "execution_count": 36,
     "metadata": {},
     "output_type": "execute_result"
    }
   ],
   "source": [
    "df_test_set"
   ],
   "metadata": {
    "collapsed": false,
    "ExecuteTime": {
     "end_time": "2023-10-24T14:11:43.753747400Z",
     "start_time": "2023-10-24T14:11:43.596492400Z"
    }
   },
   "id": "460f57f7b97b0238"
  },
  {
   "cell_type": "code",
   "execution_count": 37,
   "outputs": [],
   "source": [
    "def one_hot_encode(df):\n",
    "    encoded_df = pd.DataFrame()\n",
    "    for column in df.columns:\n",
    "        if len(df[column].unique()) > 2:\n",
    "            one_hot = pd.get_dummies(df[column], prefix=column)\n",
    "            encoded_df = pd.concat([encoded_df, one_hot], axis=1)\n",
    "        else:\n",
    "            encoded_df[column] = df[column]\n",
    "    return encoded_df\n",
    "\n",
    "df_train_set = one_hot_encode(df_train_set)\n",
    "df_test_set = one_hot_encode(df_test_set)"
   ],
   "metadata": {
    "collapsed": false,
    "ExecuteTime": {
     "end_time": "2023-10-24T14:11:43.755747200Z",
     "start_time": "2023-10-24T14:11:43.611800700Z"
    }
   },
   "id": "227f2f139bc9e76c"
  },
  {
   "cell_type": "markdown",
   "id": "34d620a6",
   "metadata": {},
   "source": [
    "## 3. 构造决策树，进行训练"
   ]
  },
  {
   "cell_type": "code",
   "execution_count": 89,
   "id": "79903ba3",
   "metadata": {
    "ExecuteTime": {
     "end_time": "2023-10-24T15:39:18.380402200Z",
     "start_time": "2023-10-24T15:39:18.364974600Z"
    }
   },
   "outputs": [],
   "source": [
    "class DecisionTree:\n",
    "    def __init__(self, index=None, value=None, left=None, right=None, height=None):\n",
    "        self.index = index\n",
    "        self.value = value\n",
    "        self.left = left\n",
    "        self.right = right\n",
    "        self.height = height\n",
    "        \n",
    "def calc_gini(df):\n",
    "    \"\"\"\n",
    "    计算数据集的基尼指数\n",
    "    该题的情况是二分类问题，但我们还是用通用的公式计算\n",
    "    :param df: 数据集\n",
    "    :return: 基尼指数\n",
    "    \"\"\"\n",
    "    gini = 1\n",
    "    for label in df['income'].value_counts().keys():\n",
    "        prob = len(df[df['income'] == label]) / len(df)\n",
    "        gini -= prob ** 2\n",
    "    return gini\n",
    "\n",
    "def split_dataset(df, index, value):\n",
    "    \"\"\"\n",
    "    按照给定的列划分数据集\n",
    "    :param df: 原始数据集\n",
    "    :param index: 指定特征的列索引\n",
    "    :param value: 指定特征的值\n",
    "    :return: 切分后的数据集\n",
    "    \"\"\"\n",
    "    df_left = df[df.iloc[:, index] == value].drop(df.columns[index], axis=1)\n",
    "    df_right = df[df.iloc[:, index] != value].drop(df.columns[index], axis=1)\n",
    "    return df_left, df_right\n",
    "    \n",
    "def choose_best_feature_to_split(df):\n",
    "    \"\"\"\n",
    "    选择最好的特征进行分裂\n",
    "    仍然采用通用公式,实际上数据是二分类的\n",
    "    :param df: 数据集\n",
    "    :return: best_value:(分裂特征的index, 特征的值), best_df:(分裂后的左右子树数据集), best_gain:(选择该属性分裂的最大信息增益)\n",
    "    \"\"\"\n",
    "    best_value = (None, -1)\n",
    "    best_df = None\n",
    "    best_gain = 0\n",
    "    base_gini = calc_gini(df)\n",
    "\n",
    "    for i in range(len(df.columns) - 1):\n",
    "        for value in df.iloc[:, i].value_counts().keys():\n",
    "            df_left, df_right = split_dataset(df, i, value)\n",
    "            prob = len(df_left) / len(df)\n",
    "            new_gini = prob * calc_gini(df_left) + (1 - prob) * calc_gini(df_right)\n",
    "            gain = base_gini - new_gini\n",
    "            if gain > best_gain:\n",
    "                best_gain = gain\n",
    "                best_value = (i, value)\n",
    "                best_df = (df_left, df_right)\n",
    "    return best_value, best_df, best_gain\n",
    "\n",
    "\n",
    "def build_decision_tree(df, columns, flags):\n",
    "    \"\"\"\n",
    "    构建CART树\n",
    "    :param df: 数据集\n",
    "    :param columns: 特征列表\n",
    "    :param flags: 区分特征是否被完全区分开,初始为全0, 若某个特征被区分开那么flags对应的下标为0\n",
    "    :return: CART树\n",
    "    \"\"\"\n",
    "    \n",
    "    # 递归结束情况1: 若当前集合的所有样本标签相等,即样本已被分\"纯\",则可以返回一个叶子结点\n",
    "    if len(df['income'].value_counts()) == 1:\n",
    "        return DecisionTree(index='income', value=df['income'].value_counts().keys()[0])\n",
    "    \n",
    "    # 递归结束情况2: 若当前训练集的所有特征都被使用完毕,当前无可用特征但样本仍未分\"纯\"，则返回样本最多的标签作为结果\n",
    "    if sum(flags) == len(columns) - 1:\n",
    "        return DecisionTree(index='income', value=df['income'].value_counts().keys()[0])\n",
    "    \n",
    "    # 选择最好的特征进行分裂\n",
    "    best_value, best_df, best_gain = choose_best_feature_to_split(df)\n",
    "    \n",
    "    # 初始化决策树\n",
    "    myTree = DecisionTree(index=best_value[0], value=best_value[1], left=None, right=None)\n",
    "    \n",
    "    # 递归构造左右子树\n",
    "    if best_gain > 0: \n",
    "        flags[best_value[0]] = 1\n",
    "        # flags = mark_features(flags, best_value[0])\n",
    "        # print('best_value:', best_value, 'best_gain:', best_gain)\n",
    "        \n",
    "        myTree.left = build_decision_tree(best_df[0], columns, flags)\n",
    "        myTree.right = build_decision_tree(best_df[1], columns, flags)\n",
    "    else:\n",
    "        return DecisionTree(index='income', value=df['income'].value_counts().keys()[0])\n",
    "    \n",
    "    return myTree\n",
    "    \n",
    "def save_decision_tree(cart):\n",
    "    \"\"\"\n",
    "    决策树的存储\n",
    "    :param cart: 训练好的决策树\n",
    "    :return: void\n",
    "    \"\"\"\n",
    "    np.save('cart.npy', cart)\n",
    "    \n",
    "    \n",
    "def load_decision_tree():\n",
    "    \"\"\"\n",
    "    决策树的加载\n",
    "    :return: 保存的决策树\n",
    "    \"\"\"    \n",
    "    cart = np.load('cart.npy', allow_pickle=True)\n",
    "    return cart.item()\n",
    "\n",
    "def mark_features(flags, column):\n",
    "    \"\"\"\n",
    "    处理互斥的特征\n",
    "    :param flags: \n",
    "    :param column: \n",
    "    :return: \n",
    "    \"\"\"\n",
    "    \n",
    "    if column <= 3 and column >= 0:     # age\n",
    "        flags[:4] = 1\n",
    "    elif column >= 4 and column <= 7:   # workclass\n",
    "        flags[4:8] = 1\n",
    "    elif column >= 8 and column <= 14:  # education\n",
    "        flags[8:15] = 1\n",
    "    elif column >= 15 and column <= 17: # maritalStatus\n",
    "        flags[15:18] = 1\n",
    "    elif column >= 18 and column <= 30: # occupation\n",
    "        flags[18:31] = 1\n",
    "    elif column >= 31 and column <= 33: # relationship\n",
    "        flags[31:34] = 1\n",
    "    elif column >= 34 and column <= 38: # race\n",
    "        flags[34:39] = 1\n",
    "    elif column >= 39 and column <= 42: # hoursPerWee\n",
    "        flags[39:43] = 1\n",
    "    else:\n",
    "        flags[column] = 1\n",
    "    return flags"
   ]
  },
  {
   "cell_type": "code",
   "execution_count": 90,
   "id": "c73fc3f9",
   "metadata": {
    "ExecuteTime": {
     "end_time": "2023-10-24T15:39:21.246557700Z",
     "start_time": "2023-10-24T15:39:21.223892400Z"
    }
   },
   "outputs": [],
   "source": [
    "df_train = df_train_set.copy() #防止预处理重新来\n",
    "df_test = df_test_set.copy()"
   ]
  },
  {
   "cell_type": "code",
   "execution_count": 78,
   "outputs": [
    {
     "data": {
      "text/plain": "       age_0  age_1  age_2  age_3  workclass_0  workclass_1  workclass_2  \\\n0          0      1      0      0            0            0            1   \n1          0      1      0      0            0            1            0   \n2          0      1      0      0            1            0            0   \n3          0      0      1      0            1            0            0   \n4          0      1      0      0            1            0            0   \n...      ...    ...    ...    ...          ...          ...          ...   \n26899      0      0      1      0            1            0            0   \n26900      1      0      0      0            1            0            0   \n26901      0      1      0      0            1            0            0   \n26902      0      0      1      0            1            0            0   \n26903      0      0      1      0            0            1            0   \n\n       workclass_3  education_0  education_1  ...  race_4  sex  capitalGain  \\\n0                0            0            0  ...       0    0            1   \n1                0            0            0  ...       0    0            0   \n2                0            0            0  ...       0    0            0   \n3                0            0            0  ...       0    0            0   \n4                0            0            0  ...       0    1            0   \n...            ...          ...          ...  ...     ...  ...          ...   \n26899            0            0            0  ...       0    0            0   \n26900            0            0            0  ...       0    0            0   \n26901            0            0            0  ...       0    1            0   \n26902            0            0            0  ...       0    1            0   \n26903            0            0            0  ...       0    1            1   \n\n       capitalLoss  hoursPerWeek_0  hoursPerWeek_1  hoursPerWeek_2  \\\n0                0               0               1               0   \n1                0               1               0               0   \n2                0               0               1               0   \n3                0               0               1               0   \n4                0               0               1               0   \n...            ...             ...             ...             ...   \n26899            0               0               1               0   \n26900            0               0               1               0   \n26901            0               0               1               0   \n26902            0               0               1               0   \n26903            0               0               1               0   \n\n       hoursPerWeek_3  nativeCountry  income  \n0                   0              1       0  \n1                   0              1       0  \n2                   0              1       0  \n3                   0              1       0  \n4                   0              0       0  \n...               ...            ...     ...  \n26899               0              1       1  \n26900               0              1       0  \n26901               0              1       0  \n26902               0              1       0  \n26903               0              1       1  \n\n[26904 rows x 49 columns]",
      "text/html": "<div>\n<style scoped>\n    .dataframe tbody tr th:only-of-type {\n        vertical-align: middle;\n    }\n\n    .dataframe tbody tr th {\n        vertical-align: top;\n    }\n\n    .dataframe thead th {\n        text-align: right;\n    }\n</style>\n<table border=\"1\" class=\"dataframe\">\n  <thead>\n    <tr style=\"text-align: right;\">\n      <th></th>\n      <th>age_0</th>\n      <th>age_1</th>\n      <th>age_2</th>\n      <th>age_3</th>\n      <th>workclass_0</th>\n      <th>workclass_1</th>\n      <th>workclass_2</th>\n      <th>workclass_3</th>\n      <th>education_0</th>\n      <th>education_1</th>\n      <th>...</th>\n      <th>race_4</th>\n      <th>sex</th>\n      <th>capitalGain</th>\n      <th>capitalLoss</th>\n      <th>hoursPerWeek_0</th>\n      <th>hoursPerWeek_1</th>\n      <th>hoursPerWeek_2</th>\n      <th>hoursPerWeek_3</th>\n      <th>nativeCountry</th>\n      <th>income</th>\n    </tr>\n  </thead>\n  <tbody>\n    <tr>\n      <th>0</th>\n      <td>0</td>\n      <td>1</td>\n      <td>0</td>\n      <td>0</td>\n      <td>0</td>\n      <td>0</td>\n      <td>1</td>\n      <td>0</td>\n      <td>0</td>\n      <td>0</td>\n      <td>...</td>\n      <td>0</td>\n      <td>0</td>\n      <td>1</td>\n      <td>0</td>\n      <td>0</td>\n      <td>1</td>\n      <td>0</td>\n      <td>0</td>\n      <td>1</td>\n      <td>0</td>\n    </tr>\n    <tr>\n      <th>1</th>\n      <td>0</td>\n      <td>1</td>\n      <td>0</td>\n      <td>0</td>\n      <td>0</td>\n      <td>1</td>\n      <td>0</td>\n      <td>0</td>\n      <td>0</td>\n      <td>0</td>\n      <td>...</td>\n      <td>0</td>\n      <td>0</td>\n      <td>0</td>\n      <td>0</td>\n      <td>1</td>\n      <td>0</td>\n      <td>0</td>\n      <td>0</td>\n      <td>1</td>\n      <td>0</td>\n    </tr>\n    <tr>\n      <th>2</th>\n      <td>0</td>\n      <td>1</td>\n      <td>0</td>\n      <td>0</td>\n      <td>1</td>\n      <td>0</td>\n      <td>0</td>\n      <td>0</td>\n      <td>0</td>\n      <td>0</td>\n      <td>...</td>\n      <td>0</td>\n      <td>0</td>\n      <td>0</td>\n      <td>0</td>\n      <td>0</td>\n      <td>1</td>\n      <td>0</td>\n      <td>0</td>\n      <td>1</td>\n      <td>0</td>\n    </tr>\n    <tr>\n      <th>3</th>\n      <td>0</td>\n      <td>0</td>\n      <td>1</td>\n      <td>0</td>\n      <td>1</td>\n      <td>0</td>\n      <td>0</td>\n      <td>0</td>\n      <td>0</td>\n      <td>0</td>\n      <td>...</td>\n      <td>0</td>\n      <td>0</td>\n      <td>0</td>\n      <td>0</td>\n      <td>0</td>\n      <td>1</td>\n      <td>0</td>\n      <td>0</td>\n      <td>1</td>\n      <td>0</td>\n    </tr>\n    <tr>\n      <th>4</th>\n      <td>0</td>\n      <td>1</td>\n      <td>0</td>\n      <td>0</td>\n      <td>1</td>\n      <td>0</td>\n      <td>0</td>\n      <td>0</td>\n      <td>0</td>\n      <td>0</td>\n      <td>...</td>\n      <td>0</td>\n      <td>1</td>\n      <td>0</td>\n      <td>0</td>\n      <td>0</td>\n      <td>1</td>\n      <td>0</td>\n      <td>0</td>\n      <td>0</td>\n      <td>0</td>\n    </tr>\n    <tr>\n      <th>...</th>\n      <td>...</td>\n      <td>...</td>\n      <td>...</td>\n      <td>...</td>\n      <td>...</td>\n      <td>...</td>\n      <td>...</td>\n      <td>...</td>\n      <td>...</td>\n      <td>...</td>\n      <td>...</td>\n      <td>...</td>\n      <td>...</td>\n      <td>...</td>\n      <td>...</td>\n      <td>...</td>\n      <td>...</td>\n      <td>...</td>\n      <td>...</td>\n      <td>...</td>\n      <td>...</td>\n    </tr>\n    <tr>\n      <th>26899</th>\n      <td>0</td>\n      <td>0</td>\n      <td>1</td>\n      <td>0</td>\n      <td>1</td>\n      <td>0</td>\n      <td>0</td>\n      <td>0</td>\n      <td>0</td>\n      <td>0</td>\n      <td>...</td>\n      <td>0</td>\n      <td>0</td>\n      <td>0</td>\n      <td>0</td>\n      <td>0</td>\n      <td>1</td>\n      <td>0</td>\n      <td>0</td>\n      <td>1</td>\n      <td>1</td>\n    </tr>\n    <tr>\n      <th>26900</th>\n      <td>1</td>\n      <td>0</td>\n      <td>0</td>\n      <td>0</td>\n      <td>1</td>\n      <td>0</td>\n      <td>0</td>\n      <td>0</td>\n      <td>0</td>\n      <td>0</td>\n      <td>...</td>\n      <td>0</td>\n      <td>0</td>\n      <td>0</td>\n      <td>0</td>\n      <td>0</td>\n      <td>1</td>\n      <td>0</td>\n      <td>0</td>\n      <td>1</td>\n      <td>0</td>\n    </tr>\n    <tr>\n      <th>26901</th>\n      <td>0</td>\n      <td>1</td>\n      <td>0</td>\n      <td>0</td>\n      <td>1</td>\n      <td>0</td>\n      <td>0</td>\n      <td>0</td>\n      <td>0</td>\n      <td>0</td>\n      <td>...</td>\n      <td>0</td>\n      <td>1</td>\n      <td>0</td>\n      <td>0</td>\n      <td>0</td>\n      <td>1</td>\n      <td>0</td>\n      <td>0</td>\n      <td>1</td>\n      <td>0</td>\n    </tr>\n    <tr>\n      <th>26902</th>\n      <td>0</td>\n      <td>0</td>\n      <td>1</td>\n      <td>0</td>\n      <td>1</td>\n      <td>0</td>\n      <td>0</td>\n      <td>0</td>\n      <td>0</td>\n      <td>0</td>\n      <td>...</td>\n      <td>0</td>\n      <td>1</td>\n      <td>0</td>\n      <td>0</td>\n      <td>0</td>\n      <td>1</td>\n      <td>0</td>\n      <td>0</td>\n      <td>1</td>\n      <td>0</td>\n    </tr>\n    <tr>\n      <th>26903</th>\n      <td>0</td>\n      <td>0</td>\n      <td>1</td>\n      <td>0</td>\n      <td>0</td>\n      <td>1</td>\n      <td>0</td>\n      <td>0</td>\n      <td>0</td>\n      <td>0</td>\n      <td>...</td>\n      <td>0</td>\n      <td>1</td>\n      <td>1</td>\n      <td>0</td>\n      <td>0</td>\n      <td>1</td>\n      <td>0</td>\n      <td>0</td>\n      <td>1</td>\n      <td>1</td>\n    </tr>\n  </tbody>\n</table>\n<p>26904 rows × 49 columns</p>\n</div>"
     },
     "execution_count": 78,
     "metadata": {},
     "output_type": "execute_result"
    }
   ],
   "source": [
    "df_train"
   ],
   "metadata": {
    "collapsed": false,
    "ExecuteTime": {
     "end_time": "2023-10-24T15:16:32.256286200Z",
     "start_time": "2023-10-24T15:16:32.230826600Z"
    }
   },
   "id": "9b5affd6e73b752f"
  },
  {
   "cell_type": "code",
   "execution_count": 41,
   "outputs": [
    {
     "data": {
      "text/plain": "       age_0  age_1  age_2  age_3  workclass_0  workclass_1  workclass_2  \\\n0          1      0      0      0            1            0            0   \n1          0      1      0      0            1            0            0   \n2          0      1      0      0            0            0            1   \n3          0      1      0      0            1            0            0   \n5          0      1      0      0            1            0            0   \n...      ...    ...    ...    ...          ...          ...          ...   \n16275      0      1      0      0            1            0            0   \n16276      0      1      0      0            1            0            0   \n16278      0      1      0      0            1            0            0   \n16279      0      1      0      0            1            0            0   \n16280      0      1      0      0            0            1            0   \n\n       workclass_3  education_0  education_1  ...  race_4  sex  capitalGain  \\\n0                0            0            0  ...       0    0            0   \n1                0            0            0  ...       0    0            0   \n2                0            0            0  ...       0    0            0   \n3                0            0            0  ...       0    0            1   \n5                0            0            0  ...       0    0            0   \n...            ...          ...          ...  ...     ...  ...          ...   \n16275            0            0            0  ...       0    0            0   \n16276            0            0            0  ...       0    1            0   \n16278            0            0            0  ...       0    0            0   \n16279            0            0            0  ...       0    0            1   \n16280            0            0            0  ...       0    0            0   \n\n       capitalLoss  hoursPerWeek_0  hoursPerWeek_1  hoursPerWeek_2  \\\n0                0               0               1               0   \n1                0               0               1               0   \n2                0               0               1               0   \n3                0               0               1               0   \n5                0               1               0               0   \n...            ...             ...             ...             ...   \n16275            0               0               1               0   \n16276            0               0               1               0   \n16278            0               0               1               0   \n16279            0               0               1               0   \n16280            0               0               1               0   \n\n       hoursPerWeek_3  nativeCountry  income  \n0                   0              1       0  \n1                   0              1       0  \n2                   0              1       1  \n3                   0              1       1  \n5                   0              1       0  \n...               ...            ...     ...  \n16275               0              1       0  \n16276               0              1       0  \n16278               0              1       0  \n16279               0              1       0  \n16280               0              1       1  \n\n[15060 rows x 49 columns]",
      "text/html": "<div>\n<style scoped>\n    .dataframe tbody tr th:only-of-type {\n        vertical-align: middle;\n    }\n\n    .dataframe tbody tr th {\n        vertical-align: top;\n    }\n\n    .dataframe thead th {\n        text-align: right;\n    }\n</style>\n<table border=\"1\" class=\"dataframe\">\n  <thead>\n    <tr style=\"text-align: right;\">\n      <th></th>\n      <th>age_0</th>\n      <th>age_1</th>\n      <th>age_2</th>\n      <th>age_3</th>\n      <th>workclass_0</th>\n      <th>workclass_1</th>\n      <th>workclass_2</th>\n      <th>workclass_3</th>\n      <th>education_0</th>\n      <th>education_1</th>\n      <th>...</th>\n      <th>race_4</th>\n      <th>sex</th>\n      <th>capitalGain</th>\n      <th>capitalLoss</th>\n      <th>hoursPerWeek_0</th>\n      <th>hoursPerWeek_1</th>\n      <th>hoursPerWeek_2</th>\n      <th>hoursPerWeek_3</th>\n      <th>nativeCountry</th>\n      <th>income</th>\n    </tr>\n  </thead>\n  <tbody>\n    <tr>\n      <th>0</th>\n      <td>1</td>\n      <td>0</td>\n      <td>0</td>\n      <td>0</td>\n      <td>1</td>\n      <td>0</td>\n      <td>0</td>\n      <td>0</td>\n      <td>0</td>\n      <td>0</td>\n      <td>...</td>\n      <td>0</td>\n      <td>0</td>\n      <td>0</td>\n      <td>0</td>\n      <td>0</td>\n      <td>1</td>\n      <td>0</td>\n      <td>0</td>\n      <td>1</td>\n      <td>0</td>\n    </tr>\n    <tr>\n      <th>1</th>\n      <td>0</td>\n      <td>1</td>\n      <td>0</td>\n      <td>0</td>\n      <td>1</td>\n      <td>0</td>\n      <td>0</td>\n      <td>0</td>\n      <td>0</td>\n      <td>0</td>\n      <td>...</td>\n      <td>0</td>\n      <td>0</td>\n      <td>0</td>\n      <td>0</td>\n      <td>0</td>\n      <td>1</td>\n      <td>0</td>\n      <td>0</td>\n      <td>1</td>\n      <td>0</td>\n    </tr>\n    <tr>\n      <th>2</th>\n      <td>0</td>\n      <td>1</td>\n      <td>0</td>\n      <td>0</td>\n      <td>0</td>\n      <td>0</td>\n      <td>1</td>\n      <td>0</td>\n      <td>0</td>\n      <td>0</td>\n      <td>...</td>\n      <td>0</td>\n      <td>0</td>\n      <td>0</td>\n      <td>0</td>\n      <td>0</td>\n      <td>1</td>\n      <td>0</td>\n      <td>0</td>\n      <td>1</td>\n      <td>1</td>\n    </tr>\n    <tr>\n      <th>3</th>\n      <td>0</td>\n      <td>1</td>\n      <td>0</td>\n      <td>0</td>\n      <td>1</td>\n      <td>0</td>\n      <td>0</td>\n      <td>0</td>\n      <td>0</td>\n      <td>0</td>\n      <td>...</td>\n      <td>0</td>\n      <td>0</td>\n      <td>1</td>\n      <td>0</td>\n      <td>0</td>\n      <td>1</td>\n      <td>0</td>\n      <td>0</td>\n      <td>1</td>\n      <td>1</td>\n    </tr>\n    <tr>\n      <th>5</th>\n      <td>0</td>\n      <td>1</td>\n      <td>0</td>\n      <td>0</td>\n      <td>1</td>\n      <td>0</td>\n      <td>0</td>\n      <td>0</td>\n      <td>0</td>\n      <td>0</td>\n      <td>...</td>\n      <td>0</td>\n      <td>0</td>\n      <td>0</td>\n      <td>0</td>\n      <td>1</td>\n      <td>0</td>\n      <td>0</td>\n      <td>0</td>\n      <td>1</td>\n      <td>0</td>\n    </tr>\n    <tr>\n      <th>...</th>\n      <td>...</td>\n      <td>...</td>\n      <td>...</td>\n      <td>...</td>\n      <td>...</td>\n      <td>...</td>\n      <td>...</td>\n      <td>...</td>\n      <td>...</td>\n      <td>...</td>\n      <td>...</td>\n      <td>...</td>\n      <td>...</td>\n      <td>...</td>\n      <td>...</td>\n      <td>...</td>\n      <td>...</td>\n      <td>...</td>\n      <td>...</td>\n      <td>...</td>\n      <td>...</td>\n    </tr>\n    <tr>\n      <th>16275</th>\n      <td>0</td>\n      <td>1</td>\n      <td>0</td>\n      <td>0</td>\n      <td>1</td>\n      <td>0</td>\n      <td>0</td>\n      <td>0</td>\n      <td>0</td>\n      <td>0</td>\n      <td>...</td>\n      <td>0</td>\n      <td>0</td>\n      <td>0</td>\n      <td>0</td>\n      <td>0</td>\n      <td>1</td>\n      <td>0</td>\n      <td>0</td>\n      <td>1</td>\n      <td>0</td>\n    </tr>\n    <tr>\n      <th>16276</th>\n      <td>0</td>\n      <td>1</td>\n      <td>0</td>\n      <td>0</td>\n      <td>1</td>\n      <td>0</td>\n      <td>0</td>\n      <td>0</td>\n      <td>0</td>\n      <td>0</td>\n      <td>...</td>\n      <td>0</td>\n      <td>1</td>\n      <td>0</td>\n      <td>0</td>\n      <td>0</td>\n      <td>1</td>\n      <td>0</td>\n      <td>0</td>\n      <td>1</td>\n      <td>0</td>\n    </tr>\n    <tr>\n      <th>16278</th>\n      <td>0</td>\n      <td>1</td>\n      <td>0</td>\n      <td>0</td>\n      <td>1</td>\n      <td>0</td>\n      <td>0</td>\n      <td>0</td>\n      <td>0</td>\n      <td>0</td>\n      <td>...</td>\n      <td>0</td>\n      <td>0</td>\n      <td>0</td>\n      <td>0</td>\n      <td>0</td>\n      <td>1</td>\n      <td>0</td>\n      <td>0</td>\n      <td>1</td>\n      <td>0</td>\n    </tr>\n    <tr>\n      <th>16279</th>\n      <td>0</td>\n      <td>1</td>\n      <td>0</td>\n      <td>0</td>\n      <td>1</td>\n      <td>0</td>\n      <td>0</td>\n      <td>0</td>\n      <td>0</td>\n      <td>0</td>\n      <td>...</td>\n      <td>0</td>\n      <td>0</td>\n      <td>1</td>\n      <td>0</td>\n      <td>0</td>\n      <td>1</td>\n      <td>0</td>\n      <td>0</td>\n      <td>1</td>\n      <td>0</td>\n    </tr>\n    <tr>\n      <th>16280</th>\n      <td>0</td>\n      <td>1</td>\n      <td>0</td>\n      <td>0</td>\n      <td>0</td>\n      <td>1</td>\n      <td>0</td>\n      <td>0</td>\n      <td>0</td>\n      <td>0</td>\n      <td>...</td>\n      <td>0</td>\n      <td>0</td>\n      <td>0</td>\n      <td>0</td>\n      <td>0</td>\n      <td>1</td>\n      <td>0</td>\n      <td>0</td>\n      <td>1</td>\n      <td>1</td>\n    </tr>\n  </tbody>\n</table>\n<p>15060 rows × 49 columns</p>\n</div>"
     },
     "execution_count": 41,
     "metadata": {},
     "output_type": "execute_result"
    }
   ],
   "source": [
    "df_test"
   ],
   "metadata": {
    "collapsed": false,
    "ExecuteTime": {
     "end_time": "2023-10-24T14:11:53.821103300Z",
     "start_time": "2023-10-24T14:11:53.796444800Z"
    }
   },
   "id": "ebedad6e9b0df76e"
  },
  {
   "cell_type": "code",
   "execution_count": 91,
   "id": "75c305eb",
   "metadata": {
    "ExecuteTime": {
     "end_time": "2023-10-24T15:39:24.031440200Z",
     "start_time": "2023-10-24T15:39:23.997405500Z"
    }
   },
   "outputs": [],
   "source": [
    "columns = df_train.columns.to_list()\n",
    "flags = [0 for i in range(len(columns) - 1)]"
   ]
  },
  {
   "cell_type": "code",
   "execution_count": 43,
   "id": "9b562b12",
   "metadata": {
    "ExecuteTime": {
     "end_time": "2023-10-24T14:12:12.528732200Z",
     "start_time": "2023-10-24T14:12:12.503996Z"
    }
   },
   "outputs": [
    {
     "data": {
      "text/plain": "   age_0  age_1  age_2  age_3  workclass_0  workclass_1  workclass_2  \\\n0      0      1      0      0            0            0            1   \n1      0      1      0      0            0            1            0   \n2      0      1      0      0            1            0            0   \n3      0      0      1      0            1            0            0   \n4      0      1      0      0            1            0            0   \n\n   workclass_3  education_0  education_1  ...  race_4  sex  capitalGain  \\\n0            0            0            0  ...       0    0            1   \n1            0            0            0  ...       0    0            0   \n2            0            0            0  ...       0    0            0   \n3            0            0            0  ...       0    0            0   \n4            0            0            0  ...       0    1            0   \n\n   capitalLoss  hoursPerWeek_0  hoursPerWeek_1  hoursPerWeek_2  \\\n0            0               0               1               0   \n1            0               1               0               0   \n2            0               0               1               0   \n3            0               0               1               0   \n4            0               0               1               0   \n\n   hoursPerWeek_3  nativeCountry  income  \n0               0              1       0  \n1               0              1       0  \n2               0              1       0  \n3               0              1       0  \n4               0              0       0  \n\n[5 rows x 49 columns]",
      "text/html": "<div>\n<style scoped>\n    .dataframe tbody tr th:only-of-type {\n        vertical-align: middle;\n    }\n\n    .dataframe tbody tr th {\n        vertical-align: top;\n    }\n\n    .dataframe thead th {\n        text-align: right;\n    }\n</style>\n<table border=\"1\" class=\"dataframe\">\n  <thead>\n    <tr style=\"text-align: right;\">\n      <th></th>\n      <th>age_0</th>\n      <th>age_1</th>\n      <th>age_2</th>\n      <th>age_3</th>\n      <th>workclass_0</th>\n      <th>workclass_1</th>\n      <th>workclass_2</th>\n      <th>workclass_3</th>\n      <th>education_0</th>\n      <th>education_1</th>\n      <th>...</th>\n      <th>race_4</th>\n      <th>sex</th>\n      <th>capitalGain</th>\n      <th>capitalLoss</th>\n      <th>hoursPerWeek_0</th>\n      <th>hoursPerWeek_1</th>\n      <th>hoursPerWeek_2</th>\n      <th>hoursPerWeek_3</th>\n      <th>nativeCountry</th>\n      <th>income</th>\n    </tr>\n  </thead>\n  <tbody>\n    <tr>\n      <th>0</th>\n      <td>0</td>\n      <td>1</td>\n      <td>0</td>\n      <td>0</td>\n      <td>0</td>\n      <td>0</td>\n      <td>1</td>\n      <td>0</td>\n      <td>0</td>\n      <td>0</td>\n      <td>...</td>\n      <td>0</td>\n      <td>0</td>\n      <td>1</td>\n      <td>0</td>\n      <td>0</td>\n      <td>1</td>\n      <td>0</td>\n      <td>0</td>\n      <td>1</td>\n      <td>0</td>\n    </tr>\n    <tr>\n      <th>1</th>\n      <td>0</td>\n      <td>1</td>\n      <td>0</td>\n      <td>0</td>\n      <td>0</td>\n      <td>1</td>\n      <td>0</td>\n      <td>0</td>\n      <td>0</td>\n      <td>0</td>\n      <td>...</td>\n      <td>0</td>\n      <td>0</td>\n      <td>0</td>\n      <td>0</td>\n      <td>1</td>\n      <td>0</td>\n      <td>0</td>\n      <td>0</td>\n      <td>1</td>\n      <td>0</td>\n    </tr>\n    <tr>\n      <th>2</th>\n      <td>0</td>\n      <td>1</td>\n      <td>0</td>\n      <td>0</td>\n      <td>1</td>\n      <td>0</td>\n      <td>0</td>\n      <td>0</td>\n      <td>0</td>\n      <td>0</td>\n      <td>...</td>\n      <td>0</td>\n      <td>0</td>\n      <td>0</td>\n      <td>0</td>\n      <td>0</td>\n      <td>1</td>\n      <td>0</td>\n      <td>0</td>\n      <td>1</td>\n      <td>0</td>\n    </tr>\n    <tr>\n      <th>3</th>\n      <td>0</td>\n      <td>0</td>\n      <td>1</td>\n      <td>0</td>\n      <td>1</td>\n      <td>0</td>\n      <td>0</td>\n      <td>0</td>\n      <td>0</td>\n      <td>0</td>\n      <td>...</td>\n      <td>0</td>\n      <td>0</td>\n      <td>0</td>\n      <td>0</td>\n      <td>0</td>\n      <td>1</td>\n      <td>0</td>\n      <td>0</td>\n      <td>1</td>\n      <td>0</td>\n    </tr>\n    <tr>\n      <th>4</th>\n      <td>0</td>\n      <td>1</td>\n      <td>0</td>\n      <td>0</td>\n      <td>1</td>\n      <td>0</td>\n      <td>0</td>\n      <td>0</td>\n      <td>0</td>\n      <td>0</td>\n      <td>...</td>\n      <td>0</td>\n      <td>1</td>\n      <td>0</td>\n      <td>0</td>\n      <td>0</td>\n      <td>1</td>\n      <td>0</td>\n      <td>0</td>\n      <td>0</td>\n      <td>0</td>\n    </tr>\n  </tbody>\n</table>\n<p>5 rows × 49 columns</p>\n</div>"
     },
     "execution_count": 43,
     "metadata": {},
     "output_type": "execute_result"
    }
   ],
   "source": [
    "df_train.head()"
   ]
  },
  {
   "cell_type": "code",
   "execution_count": 92,
   "id": "e05a0578",
   "metadata": {
    "ExecuteTime": {
     "end_time": "2023-10-24T15:46:53.692379200Z",
     "start_time": "2023-10-24T15:39:26.046709400Z"
    }
   },
   "outputs": [],
   "source": [
    "cart = build_decision_tree(df_train, columns, flags)\n",
    "save_decision_tree(cart)"
   ]
  },
  {
   "cell_type": "markdown",
   "id": "c7b0db06",
   "metadata": {},
   "source": [
    "## 4. 评估"
   ]
  },
  {
   "cell_type": "code",
   "execution_count": 94,
   "id": "59a39e20",
   "metadata": {
    "ExecuteTime": {
     "end_time": "2023-10-24T16:02:40.493255500Z",
     "start_time": "2023-10-24T16:02:40.418933400Z"
    }
   },
   "outputs": [],
   "source": [
    "def classify(cart, df_row, columns):\n",
    "    \"\"\"\n",
    "    用训练好的决策树进行分类\n",
    "    :param cart:决策树模型\n",
    "    :param df_row: 一条测试样本\n",
    "    :param columns: 特征列表\n",
    "    :return: 预测结果\n",
    "    \"\"\"\n",
    "    if cart.index == 33:\n",
    "        return cart.value\n",
    "    else:\n",
    "        index = columns.index(cart.index)\n",
    "        if df_row[index] == cart.value:\n",
    "            return classify(cart.left, df_row, columns)\n",
    "        else:\n",
    "            return classify(cart.right, df_row, columns)\n",
    "    \n",
    "def predict(cart, df, columns):\n",
    "    \"\"\"\n",
    "    用训练好的决策树进行分类\n",
    "    :param cart:决策树模型\n",
    "    :param df: 所有测试集\n",
    "    :param columns: 特征列表\n",
    "    :return: 预测结果\n",
    "    \"\"\"\n",
    "    pred_list = []\n",
    "    for i in range(len(df)):\n",
    "        pred_label = classify(cart, df.iloc[i,:], columns)\n",
    "        if pred_label == -1:\n",
    "            pred_label = random.randint(0, 1) # 防止classify执行到返回-1,但一般不会执行到返回-1\n",
    "        pred_list.append(pred_label)\n",
    "    return pred_list\n",
    "\n",
    "def calc_acc(pred_list, test_list):\n",
    "    \"\"\"\n",
    "    返回预测准确率\n",
    "    :param pred_list: 预测列表\n",
    "    :param test_list: 测试列表\n",
    "    :return: 准确率\n",
    "    \"\"\"\n",
    "    pred = np.array(pred_list)\n",
    "    test = np.array(test_list)\n",
    "    acc = np.sum(pred_list == test_list) / len(test_list)\n",
    "    return acc\n",
    "## 5. Demo"
   ]
  },
  {
   "cell_type": "markdown",
   "id": "ad375aa3",
   "metadata": {},
   "source": [
    "#### (1) 下面只是测试模型能不能跑通,实际操作时需要用测试集进行评估\n",
    "#### (2) 此外，测试集应该需要做和训练集一样的预处理操作"
   ]
  },
  {
   "cell_type": "code",
   "execution_count": 95,
   "outputs": [
    {
     "data": {
      "text/plain": "       age_0  age_1  age_2  age_3  workclass_0  workclass_1  workclass_2  \\\n0          0      1      0      0            0            0            1   \n1          0      1      0      0            0            1            0   \n2          0      1      0      0            1            0            0   \n3          0      0      1      0            1            0            0   \n4          0      1      0      0            1            0            0   \n...      ...    ...    ...    ...          ...          ...          ...   \n26899      0      0      1      0            1            0            0   \n26900      1      0      0      0            1            0            0   \n26901      0      1      0      0            1            0            0   \n26902      0      0      1      0            1            0            0   \n26903      0      0      1      0            0            1            0   \n\n       workclass_3  education_0  education_1  ...  race_4  sex  capitalGain  \\\n0                0            0            0  ...       0    0            1   \n1                0            0            0  ...       0    0            0   \n2                0            0            0  ...       0    0            0   \n3                0            0            0  ...       0    0            0   \n4                0            0            0  ...       0    1            0   \n...            ...          ...          ...  ...     ...  ...          ...   \n26899            0            0            0  ...       0    0            0   \n26900            0            0            0  ...       0    0            0   \n26901            0            0            0  ...       0    1            0   \n26902            0            0            0  ...       0    1            0   \n26903            0            0            0  ...       0    1            1   \n\n       capitalLoss  hoursPerWeek_0  hoursPerWeek_1  hoursPerWeek_2  \\\n0                0               0               1               0   \n1                0               1               0               0   \n2                0               0               1               0   \n3                0               0               1               0   \n4                0               0               1               0   \n...            ...             ...             ...             ...   \n26899            0               0               1               0   \n26900            0               0               1               0   \n26901            0               0               1               0   \n26902            0               0               1               0   \n26903            0               0               1               0   \n\n       hoursPerWeek_3  nativeCountry  income  \n0                   0              1       0  \n1                   0              1       0  \n2                   0              1       0  \n3                   0              1       0  \n4                   0              0       0  \n...               ...            ...     ...  \n26899               0              1       1  \n26900               0              1       0  \n26901               0              1       0  \n26902               0              1       0  \n26903               0              1       1  \n\n[26904 rows x 49 columns]",
      "text/html": "<div>\n<style scoped>\n    .dataframe tbody tr th:only-of-type {\n        vertical-align: middle;\n    }\n\n    .dataframe tbody tr th {\n        vertical-align: top;\n    }\n\n    .dataframe thead th {\n        text-align: right;\n    }\n</style>\n<table border=\"1\" class=\"dataframe\">\n  <thead>\n    <tr style=\"text-align: right;\">\n      <th></th>\n      <th>age_0</th>\n      <th>age_1</th>\n      <th>age_2</th>\n      <th>age_3</th>\n      <th>workclass_0</th>\n      <th>workclass_1</th>\n      <th>workclass_2</th>\n      <th>workclass_3</th>\n      <th>education_0</th>\n      <th>education_1</th>\n      <th>...</th>\n      <th>race_4</th>\n      <th>sex</th>\n      <th>capitalGain</th>\n      <th>capitalLoss</th>\n      <th>hoursPerWeek_0</th>\n      <th>hoursPerWeek_1</th>\n      <th>hoursPerWeek_2</th>\n      <th>hoursPerWeek_3</th>\n      <th>nativeCountry</th>\n      <th>income</th>\n    </tr>\n  </thead>\n  <tbody>\n    <tr>\n      <th>0</th>\n      <td>0</td>\n      <td>1</td>\n      <td>0</td>\n      <td>0</td>\n      <td>0</td>\n      <td>0</td>\n      <td>1</td>\n      <td>0</td>\n      <td>0</td>\n      <td>0</td>\n      <td>...</td>\n      <td>0</td>\n      <td>0</td>\n      <td>1</td>\n      <td>0</td>\n      <td>0</td>\n      <td>1</td>\n      <td>0</td>\n      <td>0</td>\n      <td>1</td>\n      <td>0</td>\n    </tr>\n    <tr>\n      <th>1</th>\n      <td>0</td>\n      <td>1</td>\n      <td>0</td>\n      <td>0</td>\n      <td>0</td>\n      <td>1</td>\n      <td>0</td>\n      <td>0</td>\n      <td>0</td>\n      <td>0</td>\n      <td>...</td>\n      <td>0</td>\n      <td>0</td>\n      <td>0</td>\n      <td>0</td>\n      <td>1</td>\n      <td>0</td>\n      <td>0</td>\n      <td>0</td>\n      <td>1</td>\n      <td>0</td>\n    </tr>\n    <tr>\n      <th>2</th>\n      <td>0</td>\n      <td>1</td>\n      <td>0</td>\n      <td>0</td>\n      <td>1</td>\n      <td>0</td>\n      <td>0</td>\n      <td>0</td>\n      <td>0</td>\n      <td>0</td>\n      <td>...</td>\n      <td>0</td>\n      <td>0</td>\n      <td>0</td>\n      <td>0</td>\n      <td>0</td>\n      <td>1</td>\n      <td>0</td>\n      <td>0</td>\n      <td>1</td>\n      <td>0</td>\n    </tr>\n    <tr>\n      <th>3</th>\n      <td>0</td>\n      <td>0</td>\n      <td>1</td>\n      <td>0</td>\n      <td>1</td>\n      <td>0</td>\n      <td>0</td>\n      <td>0</td>\n      <td>0</td>\n      <td>0</td>\n      <td>...</td>\n      <td>0</td>\n      <td>0</td>\n      <td>0</td>\n      <td>0</td>\n      <td>0</td>\n      <td>1</td>\n      <td>0</td>\n      <td>0</td>\n      <td>1</td>\n      <td>0</td>\n    </tr>\n    <tr>\n      <th>4</th>\n      <td>0</td>\n      <td>1</td>\n      <td>0</td>\n      <td>0</td>\n      <td>1</td>\n      <td>0</td>\n      <td>0</td>\n      <td>0</td>\n      <td>0</td>\n      <td>0</td>\n      <td>...</td>\n      <td>0</td>\n      <td>1</td>\n      <td>0</td>\n      <td>0</td>\n      <td>0</td>\n      <td>1</td>\n      <td>0</td>\n      <td>0</td>\n      <td>0</td>\n      <td>0</td>\n    </tr>\n    <tr>\n      <th>...</th>\n      <td>...</td>\n      <td>...</td>\n      <td>...</td>\n      <td>...</td>\n      <td>...</td>\n      <td>...</td>\n      <td>...</td>\n      <td>...</td>\n      <td>...</td>\n      <td>...</td>\n      <td>...</td>\n      <td>...</td>\n      <td>...</td>\n      <td>...</td>\n      <td>...</td>\n      <td>...</td>\n      <td>...</td>\n      <td>...</td>\n      <td>...</td>\n      <td>...</td>\n      <td>...</td>\n    </tr>\n    <tr>\n      <th>26899</th>\n      <td>0</td>\n      <td>0</td>\n      <td>1</td>\n      <td>0</td>\n      <td>1</td>\n      <td>0</td>\n      <td>0</td>\n      <td>0</td>\n      <td>0</td>\n      <td>0</td>\n      <td>...</td>\n      <td>0</td>\n      <td>0</td>\n      <td>0</td>\n      <td>0</td>\n      <td>0</td>\n      <td>1</td>\n      <td>0</td>\n      <td>0</td>\n      <td>1</td>\n      <td>1</td>\n    </tr>\n    <tr>\n      <th>26900</th>\n      <td>1</td>\n      <td>0</td>\n      <td>0</td>\n      <td>0</td>\n      <td>1</td>\n      <td>0</td>\n      <td>0</td>\n      <td>0</td>\n      <td>0</td>\n      <td>0</td>\n      <td>...</td>\n      <td>0</td>\n      <td>0</td>\n      <td>0</td>\n      <td>0</td>\n      <td>0</td>\n      <td>1</td>\n      <td>0</td>\n      <td>0</td>\n      <td>1</td>\n      <td>0</td>\n    </tr>\n    <tr>\n      <th>26901</th>\n      <td>0</td>\n      <td>1</td>\n      <td>0</td>\n      <td>0</td>\n      <td>1</td>\n      <td>0</td>\n      <td>0</td>\n      <td>0</td>\n      <td>0</td>\n      <td>0</td>\n      <td>...</td>\n      <td>0</td>\n      <td>1</td>\n      <td>0</td>\n      <td>0</td>\n      <td>0</td>\n      <td>1</td>\n      <td>0</td>\n      <td>0</td>\n      <td>1</td>\n      <td>0</td>\n    </tr>\n    <tr>\n      <th>26902</th>\n      <td>0</td>\n      <td>0</td>\n      <td>1</td>\n      <td>0</td>\n      <td>1</td>\n      <td>0</td>\n      <td>0</td>\n      <td>0</td>\n      <td>0</td>\n      <td>0</td>\n      <td>...</td>\n      <td>0</td>\n      <td>1</td>\n      <td>0</td>\n      <td>0</td>\n      <td>0</td>\n      <td>1</td>\n      <td>0</td>\n      <td>0</td>\n      <td>1</td>\n      <td>0</td>\n    </tr>\n    <tr>\n      <th>26903</th>\n      <td>0</td>\n      <td>0</td>\n      <td>1</td>\n      <td>0</td>\n      <td>0</td>\n      <td>1</td>\n      <td>0</td>\n      <td>0</td>\n      <td>0</td>\n      <td>0</td>\n      <td>...</td>\n      <td>0</td>\n      <td>1</td>\n      <td>1</td>\n      <td>0</td>\n      <td>0</td>\n      <td>1</td>\n      <td>0</td>\n      <td>0</td>\n      <td>1</td>\n      <td>1</td>\n    </tr>\n  </tbody>\n</table>\n<p>26904 rows × 49 columns</p>\n</div>"
     },
     "execution_count": 95,
     "metadata": {},
     "output_type": "execute_result"
    }
   ],
   "source": [
    "df_train"
   ],
   "metadata": {
    "collapsed": false,
    "ExecuteTime": {
     "end_time": "2023-10-24T16:02:40.668876800Z",
     "start_time": "2023-10-24T16:02:40.475109300Z"
    }
   },
   "id": "a4188d9931b15e78"
  },
  {
   "cell_type": "code",
   "execution_count": 96,
   "id": "255d70ff",
   "metadata": {
    "ExecuteTime": {
     "end_time": "2023-10-24T16:02:40.687992200Z",
     "start_time": "2023-10-24T16:02:40.507246300Z"
    }
   },
   "outputs": [],
   "source": [
    "columns = df_train.columns.to_list()"
   ]
  },
  {
   "cell_type": "code",
   "execution_count": 97,
   "outputs": [],
   "source": [
    "cart = load_decision_tree() # 加载模型"
   ],
   "metadata": {
    "collapsed": false,
    "ExecuteTime": {
     "end_time": "2023-10-24T16:02:40.688991200Z",
     "start_time": "2023-10-24T16:02:40.510690Z"
    }
   },
   "id": "e7759198"
  },
  {
   "cell_type": "code",
   "execution_count": 98,
   "id": "c5be5e1e",
   "metadata": {
    "ExecuteTime": {
     "end_time": "2023-10-24T16:02:42.499905Z",
     "start_time": "2023-10-24T16:02:40.542732Z"
    }
   },
   "outputs": [],
   "source": [
    "test_list = df_train['income'].to_numpy()\n",
    "pred_list = predict(cart, df_train, columns)"
   ]
  },
  {
   "cell_type": "code",
   "execution_count": 99,
   "id": "76f41d4c",
   "metadata": {
    "ExecuteTime": {
     "end_time": "2023-10-24T16:02:42.510382300Z",
     "start_time": "2023-10-24T16:02:42.500905700Z"
    }
   },
   "outputs": [],
   "source": [
    "acc = calc_acc(pred_list, test_list)"
   ]
  },
  {
   "cell_type": "code",
   "execution_count": 100,
   "id": "dee49d56",
   "metadata": {
    "ExecuteTime": {
     "end_time": "2023-10-24T16:02:42.518953400Z",
     "start_time": "2023-10-24T16:02:42.507301400Z"
    }
   },
   "outputs": [
    {
     "data": {
      "text/plain": "0.744275944097532"
     },
     "execution_count": 100,
     "metadata": {},
     "output_type": "execute_result"
    }
   ],
   "source": [
    "acc"
   ]
  },
  {
   "cell_type": "code",
   "execution_count": 101,
   "outputs": [
    {
     "data": {
      "text/plain": "Counter({0: 26904})"
     },
     "execution_count": 101,
     "metadata": {},
     "output_type": "execute_result"
    }
   ],
   "source": [
    "# 统计pred_list中的样本分布情况,并画出图像\n",
    "collections.Counter(pred_list)"
   ],
   "metadata": {
    "collapsed": false,
    "ExecuteTime": {
     "end_time": "2023-10-24T16:02:42.582905500Z",
     "start_time": "2023-10-24T16:02:42.518036900Z"
    }
   },
   "id": "5a86d6a83a83884c"
  },
  {
   "cell_type": "code",
   "execution_count": 102,
   "outputs": [
    {
     "data": {
      "text/plain": "Counter({0: 20024, 1: 6880})"
     },
     "execution_count": 102,
     "metadata": {},
     "output_type": "execute_result"
    }
   ],
   "source": [
    "# 统计test_list中的样本分布情况\n",
    "collections.Counter(test_list)"
   ],
   "metadata": {
    "collapsed": false,
    "ExecuteTime": {
     "end_time": "2023-10-24T16:02:42.584912200Z",
     "start_time": "2023-10-24T16:02:42.532456200Z"
    }
   },
   "id": "d47048997dba9aae"
  }
 ],
 "metadata": {
  "kernelspec": {
   "display_name": "Python 3 (ipykernel)",
   "language": "python",
   "name": "python3"
  },
  "language_info": {
   "codemirror_mode": {
    "name": "ipython",
    "version": 3
   },
   "file_extension": ".py",
   "mimetype": "text/x-python",
   "name": "python",
   "nbconvert_exporter": "python",
   "pygments_lexer": "ipython3",
   "version": "3.9.7"
  }
 },
 "nbformat": 4,
 "nbformat_minor": 5
}
